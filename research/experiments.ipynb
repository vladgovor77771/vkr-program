{
 "cells": [
  {
   "cell_type": "code",
   "execution_count": 1,
   "metadata": {},
   "outputs": [],
   "source": [
    "from runner import run_read, run_transform, run_generate_dataset\n",
    "from generator import generate_partial_request"
   ]
  },
  {
   "cell_type": "code",
   "execution_count": 10,
   "metadata": {},
   "outputs": [],
   "source": [
    "# all for chunk size ~128mb\n",
    "datasets = [\n",
    "    {'depth': 0, 'sparsity': 0.0, 'docs_count': 625000},\n",
    "    {'depth': 0, 'sparsity': 0.1, 'docs_count': 675000},\n",
    "    {'depth': 0, 'sparsity': 0.2, 'docs_count': 725000},\n",
    "    {'depth': 0, 'sparsity': 0.3, 'docs_count': 775000},\n",
    "    {'depth': 0, 'sparsity': 0.4, 'docs_count': 825000},\n",
    "    {'depth': 1, 'sparsity': 0.0, 'docs_count': 95000},\n",
    "    {'depth': 1, 'sparsity': 0.1, 'docs_count': 105000},\n",
    "    {'depth': 1, 'sparsity': 0.2, 'docs_count': 122500},\n",
    "    {'depth': 1, 'sparsity': 0.3, 'docs_count': 150000},\n",
    "    {'depth': 1, 'sparsity': 0.4, 'docs_count': 182500},\n",
    "    {'depth': 2, 'sparsity': 0.0, 'docs_count': 17500},\n",
    "    {'depth': 2, 'sparsity': 0.1, 'docs_count': 22500},\n",
    "    {'depth': 2, 'sparsity': 0.2, 'docs_count': 30000},\n",
    "    {'depth': 2, 'sparsity': 0.3, 'docs_count': 39000},\n",
    "    {'depth': 2, 'sparsity': 0.4, 'docs_count': 55000},\n",
    "    {'depth': 3, 'sparsity': 0.0, 'docs_count': 3750},\n",
    "    {'depth': 3, 'sparsity': 0.1, 'docs_count': 5500},\n",
    "    {'depth': 3, 'sparsity': 0.2, 'docs_count': 8500},\n",
    "    {'depth': 3, 'sparsity': 0.3, 'docs_count': 12500},\n",
    "    {'depth': 3, 'sparsity': 0.4, 'docs_count': 22500},\n",
    "    {'depth': 4, 'sparsity': 0.0, 'docs_count': 400},\n",
    "    {'depth': 4, 'sparsity': 0.1, 'docs_count': 600},\n",
    "    {'depth': 4, 'sparsity': 0.2, 'docs_count': 1000},\n",
    "    {'depth': 4, 'sparsity': 0.3, 'docs_count': 1800},\n",
    "    {'depth': 4, 'sparsity': 0.4, 'docs_count': 3500},\n",
    "    {'depth': 5, 'sparsity': 0.0, 'docs_count': 85},\n",
    "    {'depth': 5, 'sparsity': 0.1, 'docs_count': 135},\n",
    "    {'depth': 5, 'sparsity': 0.2, 'docs_count': 270},\n",
    "    {'depth': 5, 'sparsity': 0.3, 'docs_count': 550},\n",
    "    {'depth': 5, 'sparsity': 0.4, 'docs_count': 1250},\n",
    "    {'depth': 6, 'sparsity': 0.0, 'docs_count': 22},\n",
    "    {'depth': 6, 'sparsity': 0.1, 'docs_count': 42},\n",
    "    {'depth': 6, 'sparsity': 0.2, 'docs_count': 85},\n",
    "    {'depth': 6, 'sparsity': 0.3, 'docs_count': 205},\n",
    "    {'depth': 6, 'sparsity': 0.4, 'docs_count': 550},\n",
    "]\n",
    "\n",
    "partial_request_ratios = [0.1, 0.5, 0.8, 1.0]"
   ]
  },
  {
   "cell_type": "code",
   "execution_count": 3,
   "metadata": {},
   "outputs": [],
   "source": [
    "binary_path = \"../build/bin/cli\"\n",
    "ds_path = \"./datasets/documents\"\n",
    "schemas_path = \"./datasets/schemas\"\n",
    "temp_path = \"./datasets/temp\""
   ]
  },
  {
   "cell_type": "code",
   "execution_count": 4,
   "metadata": {},
   "outputs": [],
   "source": [
    "def gen(ds):\n",
    "    run_generate_dataset(\n",
    "        \"../build/bin/cli\",\n",
    "        f\"./datasets/documents/{ds['depth']}-{ds['sparsity']:.1f}.json\",\n",
    "        f\"./datasets/schemas/schema-{ds['depth']}.json\",\n",
    "        docs_count=ds[\"docs_count\"],\n",
    "        sparsity=ds[\"sparsity\"]\n",
    "    )"
   ]
  },
  {
   "cell_type": "code",
   "execution_count": 5,
   "metadata": {},
   "outputs": [],
   "source": [
    "import os\n",
    "\n",
    "# os.mkdir(\"./datasets\")\n",
    "# os.mkdir(\"./datasets/documents\")\n",
    "# os.mkdir(\"./datasets/schemas\")\n",
    "# os.mkdir(\"./datasets/temp\")\n",
    "# for ds in datasets:\n",
    "#     gen(ds)"
   ]
  },
  {
   "cell_type": "code",
   "execution_count": null,
   "metadata": {},
   "outputs": [],
   "source": [
    "from tqdm.notebook import tqdm\n",
    "import json\n",
    "\n",
    "results = {}\n",
    "\n",
    "for ds in tqdm(datasets[19:], desc=\"Dataset\"):\n",
    "    ds_key = f\"{ds['depth']}-{ds['sparsity']:.1f}\"\n",
    "    results[ds_key] = {}\n",
    "    input_path = f\"{ds_path}/{ds['depth']}-{ds['sparsity']:.1f}.json\"\n",
    "    schema_path = f\"{schemas_path}/schema-{ds['depth']}.json\"\n",
    "    with open(schema_path) as f:\n",
    "        schema = json.loads(f.read())\n",
    "\n",
    "    partial_requests = [generate_partial_request(schema, r) for r in partial_request_ratios]\n",
    "    for format in [\"json\", \"bson\", \"columnar\"]:\n",
    "        results[ds_key][format] = {}\n",
    "\n",
    "        # results[ds_key][format][\"write\"] = []\n",
    "        # for i in tqdm(range(5), desc=\"Probe write\", leave=False):\n",
    "        #     output_path = f\"./temp/out-{ds['depth']}-{ds['sparsity']:.1f}.{format}\"\n",
    "        #     result = run_transform(binary_path, input_path, \"json\", output_path, format, schema_path=schema_path)\n",
    "        #     results[ds_key][format][\"write\"].append(result[\"write_duration_ns\"])\n",
    "        # results[ds_key][format][\"read\"] = []\n",
    "\n",
    "        read_input_path = f\"./temp/out-{ds['depth']}-{ds['sparsity']:.1f}.{format}\"\n",
    "        for i, partial_request in enumerate(partial_requests):\n",
    "            results[ds_key][format][f\"read_{partial_request_ratios[i]:.1f}\"] = []\n",
    "\n",
    "            try:\n",
    "                result = run_read(binary_path, read_input_path, format, schema_path=schema_path, partial_request=partial_request)\n",
    "                results[ds_key][format][f\"read_{partial_request_ratios[i]:.1f}\"].append(result[\"read_duration_ns\"])\n",
    "            except Exception as e:\n",
    "                print(e)\n",
    "                pass\n"
   ]
  },
  {
   "cell_type": "code",
   "execution_count": 15,
   "metadata": {},
   "outputs": [],
   "source": [
    "import json\n",
    "\n",
    "with open(\"./read_results_2.json\", \"w+\") as f:\n",
    "    f.write(json.dumps(results))"
   ]
  },
  {
   "cell_type": "code",
   "execution_count": null,
   "metadata": {},
   "outputs": [],
   "source": []
  }
 ],
 "metadata": {
  "kernelspec": {
   "display_name": "Python 3",
   "language": "python",
   "name": "python3"
  },
  "language_info": {
   "codemirror_mode": {
    "name": "ipython",
    "version": 3
   },
   "file_extension": ".py",
   "mimetype": "text/x-python",
   "name": "python",
   "nbconvert_exporter": "python",
   "pygments_lexer": "ipython3",
   "version": "3.9.6"
  }
 },
 "nbformat": 4,
 "nbformat_minor": 2
}
