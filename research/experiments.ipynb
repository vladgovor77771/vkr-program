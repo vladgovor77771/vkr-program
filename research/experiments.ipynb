{
 "cells": [
  {
   "cell_type": "code",
   "execution_count": 1,
   "metadata": {},
   "outputs": [],
   "source": [
    "from runner import run_read, run_transform, run_generate_dataset\n",
    "from generator import generate_partial_request"
   ]
  },
  {
   "cell_type": "code",
   "execution_count": 2,
   "metadata": {},
   "outputs": [],
   "source": [
    "# all for chunk size ~128mb\n",
    "datasets = [\n",
    "    {'depth': 0, 'sparsity': 0.0, 'docs_count': 625000},\n",
    "    {'depth': 0, 'sparsity': 0.1, 'docs_count': 675000},\n",
    "    {'depth': 0, 'sparsity': 0.2, 'docs_count': 725000},\n",
    "    {'depth': 0, 'sparsity': 0.3, 'docs_count': 775000},\n",
    "    {'depth': 0, 'sparsity': 0.4, 'docs_count': 825000},\n",
    "    {'depth': 1, 'sparsity': 0.0, 'docs_count': 95000},\n",
    "    {'depth': 1, 'sparsity': 0.1, 'docs_count': 105000},\n",
    "    {'depth': 1, 'sparsity': 0.2, 'docs_count': 122500},\n",
    "    {'depth': 1, 'sparsity': 0.3, 'docs_count': 150000},\n",
    "    {'depth': 1, 'sparsity': 0.4, 'docs_count': 182500},\n",
    "    {'depth': 2, 'sparsity': 0.0, 'docs_count': 17500},\n",
    "    {'depth': 2, 'sparsity': 0.1, 'docs_count': 22500},\n",
    "    {'depth': 2, 'sparsity': 0.2, 'docs_count': 30000},\n",
    "    {'depth': 2, 'sparsity': 0.3, 'docs_count': 39000},\n",
    "    {'depth': 2, 'sparsity': 0.4, 'docs_count': 55000},\n",
    "    {'depth': 3, 'sparsity': 0.0, 'docs_count': 3750},\n",
    "    {'depth': 3, 'sparsity': 0.1, 'docs_count': 5500},\n",
    "    {'depth': 3, 'sparsity': 0.2, 'docs_count': 8500},\n",
    "    {'depth': 3, 'sparsity': 0.3, 'docs_count': 12500},\n",
    "    {'depth': 3, 'sparsity': 0.4, 'docs_count': 22500},\n",
    "    {'depth': 4, 'sparsity': 0.0, 'docs_count': 400},\n",
    "    {'depth': 4, 'sparsity': 0.1, 'docs_count': 600},\n",
    "    {'depth': 4, 'sparsity': 0.2, 'docs_count': 1000},\n",
    "    {'depth': 4, 'sparsity': 0.3, 'docs_count': 1800},\n",
    "    {'depth': 4, 'sparsity': 0.4, 'docs_count': 3500},\n",
    "    {'depth': 5, 'sparsity': 0.0, 'docs_count': 85},\n",
    "    {'depth': 5, 'sparsity': 0.1, 'docs_count': 135},\n",
    "    {'depth': 5, 'sparsity': 0.2, 'docs_count': 270},\n",
    "    {'depth': 5, 'sparsity': 0.3, 'docs_count': 550},\n",
    "    {'depth': 5, 'sparsity': 0.4, 'docs_count': 1250},\n",
    "    {'depth': 6, 'sparsity': 0.0, 'docs_count': 22},\n",
    "    {'depth': 6, 'sparsity': 0.1, 'docs_count': 42},\n",
    "    {'depth': 6, 'sparsity': 0.2, 'docs_count': 85},\n",
    "    {'depth': 6, 'sparsity': 0.3, 'docs_count': 205},\n",
    "    {'depth': 6, 'sparsity': 0.4, 'docs_count': 550},\n",
    "]\n",
    "\n",
    "partial_request_ratios = [0.1, 0.5, 0.8, 1.0]"
   ]
  },
  {
   "cell_type": "code",
   "execution_count": 3,
   "metadata": {},
   "outputs": [],
   "source": [
    "binary_path = \"../build/bin/cli\"\n",
    "ds_path = \"./datasets/documents\"\n",
    "schemas_path = \"./datasets/schemas\"\n",
    "temp_path = \"./datasets/temp\""
   ]
  },
  {
   "cell_type": "code",
   "execution_count": 4,
   "metadata": {},
   "outputs": [],
   "source": [
    "def gen(ds):\n",
    "    run_generate_dataset(\n",
    "        \"../build/bin/cli\",\n",
    "        f\"./datasets/documents/{ds['depth']}-{ds['sparsity']:.1f}.json\",\n",
    "        f\"./datasets/schemas/schema-{ds['depth']}.json\",\n",
    "        docs_count=ds[\"docs_count\"],\n",
    "        sparsity=ds[\"sparsity\"]\n",
    "    )"
   ]
  },
  {
   "cell_type": "code",
   "execution_count": 5,
   "metadata": {},
   "outputs": [],
   "source": [
    "import os\n",
    "\n",
    "# os.mkdir(\"./datasets\")\n",
    "# os.mkdir(\"./datasets/documents\")\n",
    "# os.mkdir(\"./datasets/schemas\")\n",
    "# os.mkdir(\"./datasets/temp\")\n",
    "# for ds in datasets:\n",
    "#     gen(ds)"
   ]
  },
  {
   "cell_type": "code",
   "execution_count": 10,
   "metadata": {},
   "outputs": [
    {
     "data": {
      "application/vnd.jupyter.widget-view+json": {
       "model_id": "254f314a0cc54239ab45c8934fd1a5df",
       "version_major": 2,
       "version_minor": 0
      },
      "text/plain": [
       "Dataset:   0%|          | 0/4 [00:00<?, ?it/s]"
      ]
     },
     "metadata": {},
     "output_type": "display_data"
    },
    {
     "data": {
      "application/vnd.jupyter.widget-view+json": {
       "model_id": "df9af1b50d314581b6711cea8ee89d65",
       "version_major": 2,
       "version_minor": 0
      },
      "text/plain": [
       "Processing 6-0.1:   0%|          | 0/3 [00:00<?, ?it/s]"
      ]
     },
     "metadata": {},
     "output_type": "display_data"
    },
    {
     "data": {
      "application/vnd.jupyter.widget-view+json": {
       "model_id": "6b1fa42ef4464facac9e514db0bc3f44",
       "version_major": 2,
       "version_minor": 0
      },
      "text/plain": [
       "Processing json request ratios:   0%|          | 0/4 [00:00<?, ?it/s]"
      ]
     },
     "metadata": {},
     "output_type": "display_data"
    },
    {
     "data": {
      "application/vnd.jupyter.widget-view+json": {
       "model_id": "3f7f0f86a79c4678bdafb4e083159bc8",
       "version_major": 2,
       "version_minor": 0
      },
      "text/plain": [
       "Probes for 0.1:   0%|          | 0/5 [00:00<?, ?it/s]"
      ]
     },
     "metadata": {},
     "output_type": "display_data"
    },
    {
     "data": {
      "application/vnd.jupyter.widget-view+json": {
       "model_id": "1b30af3c18424f12ab29c6d8a473680c",
       "version_major": 2,
       "version_minor": 0
      },
      "text/plain": [
       "Probes for 0.5:   0%|          | 0/5 [00:00<?, ?it/s]"
      ]
     },
     "metadata": {},
     "output_type": "display_data"
    },
    {
     "data": {
      "application/vnd.jupyter.widget-view+json": {
       "model_id": "fb426b2964904b65a8d7a38059c89596",
       "version_major": 2,
       "version_minor": 0
      },
      "text/plain": [
       "Probes for 0.8:   0%|          | 0/5 [00:00<?, ?it/s]"
      ]
     },
     "metadata": {},
     "output_type": "display_data"
    },
    {
     "data": {
      "application/vnd.jupyter.widget-view+json": {
       "model_id": "cf3b74a43df94403ba4a5819d7750d0d",
       "version_major": 2,
       "version_minor": 0
      },
      "text/plain": [
       "Probes for 1.0:   0%|          | 0/5 [00:00<?, ?it/s]"
      ]
     },
     "metadata": {},
     "output_type": "display_data"
    },
    {
     "data": {
      "application/vnd.jupyter.widget-view+json": {
       "model_id": "7993fbd5ef2d482494b13da442bf0231",
       "version_major": 2,
       "version_minor": 0
      },
      "text/plain": [
       "Processing bson request ratios:   0%|          | 0/4 [00:00<?, ?it/s]"
      ]
     },
     "metadata": {},
     "output_type": "display_data"
    },
    {
     "data": {
      "application/vnd.jupyter.widget-view+json": {
       "model_id": "b1ad78e34a9e47b1a5b275153552c240",
       "version_major": 2,
       "version_minor": 0
      },
      "text/plain": [
       "Probes for 0.1:   0%|          | 0/5 [00:00<?, ?it/s]"
      ]
     },
     "metadata": {},
     "output_type": "display_data"
    },
    {
     "data": {
      "application/vnd.jupyter.widget-view+json": {
       "model_id": "951103fa067c4dddab05250f45d5baa8",
       "version_major": 2,
       "version_minor": 0
      },
      "text/plain": [
       "Probes for 0.5:   0%|          | 0/5 [00:00<?, ?it/s]"
      ]
     },
     "metadata": {},
     "output_type": "display_data"
    },
    {
     "data": {
      "application/vnd.jupyter.widget-view+json": {
       "model_id": "4c5a3b9572bd44a3af9c3913e2c89818",
       "version_major": 2,
       "version_minor": 0
      },
      "text/plain": [
       "Probes for 0.8:   0%|          | 0/5 [00:00<?, ?it/s]"
      ]
     },
     "metadata": {},
     "output_type": "display_data"
    },
    {
     "data": {
      "application/vnd.jupyter.widget-view+json": {
       "model_id": "b500da6463154f7a855a1269b54d935b",
       "version_major": 2,
       "version_minor": 0
      },
      "text/plain": [
       "Probes for 1.0:   0%|          | 0/5 [00:00<?, ?it/s]"
      ]
     },
     "metadata": {},
     "output_type": "display_data"
    },
    {
     "data": {
      "application/vnd.jupyter.widget-view+json": {
       "model_id": "13daf16db98744859fd6d5ba8925a902",
       "version_major": 2,
       "version_minor": 0
      },
      "text/plain": [
       "Processing columnar request ratios:   0%|          | 0/4 [00:00<?, ?it/s]"
      ]
     },
     "metadata": {},
     "output_type": "display_data"
    },
    {
     "data": {
      "application/vnd.jupyter.widget-view+json": {
       "model_id": "2bf1aa185c344dab9763b93887c2af49",
       "version_major": 2,
       "version_minor": 0
      },
      "text/plain": [
       "Probes for 0.1:   0%|          | 0/5 [00:00<?, ?it/s]"
      ]
     },
     "metadata": {},
     "output_type": "display_data"
    },
    {
     "data": {
      "application/vnd.jupyter.widget-view+json": {
       "model_id": "8be0ac78ee5a4fda9e4ac6fc019676f8",
       "version_major": 2,
       "version_minor": 0
      },
      "text/plain": [
       "Probes for 0.5:   0%|          | 0/5 [00:00<?, ?it/s]"
      ]
     },
     "metadata": {},
     "output_type": "display_data"
    },
    {
     "data": {
      "application/vnd.jupyter.widget-view+json": {
       "model_id": "b9e3c32f41074c388a457a76ddc567c7",
       "version_major": 2,
       "version_minor": 0
      },
      "text/plain": [
       "Probes for 0.8:   0%|          | 0/5 [00:00<?, ?it/s]"
      ]
     },
     "metadata": {},
     "output_type": "display_data"
    },
    {
     "data": {
      "application/vnd.jupyter.widget-view+json": {
       "model_id": "2274096150a94ff78904133f1d9fa2a9",
       "version_major": 2,
       "version_minor": 0
      },
      "text/plain": [
       "Probes for 1.0:   0%|          | 0/5 [00:00<?, ?it/s]"
      ]
     },
     "metadata": {},
     "output_type": "display_data"
    },
    {
     "data": {
      "application/vnd.jupyter.widget-view+json": {
       "model_id": "4b377d9532a84568a35720f0427c5e62",
       "version_major": 2,
       "version_minor": 0
      },
      "text/plain": [
       "Processing 6-0.2:   0%|          | 0/3 [00:00<?, ?it/s]"
      ]
     },
     "metadata": {},
     "output_type": "display_data"
    },
    {
     "data": {
      "application/vnd.jupyter.widget-view+json": {
       "model_id": "dfd498f754ee4e6dab6311ead161c8d1",
       "version_major": 2,
       "version_minor": 0
      },
      "text/plain": [
       "Processing json request ratios:   0%|          | 0/4 [00:00<?, ?it/s]"
      ]
     },
     "metadata": {},
     "output_type": "display_data"
    },
    {
     "data": {
      "application/vnd.jupyter.widget-view+json": {
       "model_id": "953ed8b13a9b4500a53d135e16984f17",
       "version_major": 2,
       "version_minor": 0
      },
      "text/plain": [
       "Probes for 0.1:   0%|          | 0/5 [00:00<?, ?it/s]"
      ]
     },
     "metadata": {},
     "output_type": "display_data"
    },
    {
     "data": {
      "application/vnd.jupyter.widget-view+json": {
       "model_id": "ae074a47ab17436a99780f566f031951",
       "version_major": 2,
       "version_minor": 0
      },
      "text/plain": [
       "Probes for 0.5:   0%|          | 0/5 [00:00<?, ?it/s]"
      ]
     },
     "metadata": {},
     "output_type": "display_data"
    },
    {
     "data": {
      "application/vnd.jupyter.widget-view+json": {
       "model_id": "0b11c8b708724b9f96a47c5d179dabf0",
       "version_major": 2,
       "version_minor": 0
      },
      "text/plain": [
       "Probes for 0.8:   0%|          | 0/5 [00:00<?, ?it/s]"
      ]
     },
     "metadata": {},
     "output_type": "display_data"
    },
    {
     "data": {
      "application/vnd.jupyter.widget-view+json": {
       "model_id": "e52504a467974b6f8b50410b0cf1b3ec",
       "version_major": 2,
       "version_minor": 0
      },
      "text/plain": [
       "Probes for 1.0:   0%|          | 0/5 [00:00<?, ?it/s]"
      ]
     },
     "metadata": {},
     "output_type": "display_data"
    },
    {
     "data": {
      "application/vnd.jupyter.widget-view+json": {
       "model_id": "bd7db4ee024b4b43afe652e366c8dc80",
       "version_major": 2,
       "version_minor": 0
      },
      "text/plain": [
       "Processing bson request ratios:   0%|          | 0/4 [00:00<?, ?it/s]"
      ]
     },
     "metadata": {},
     "output_type": "display_data"
    },
    {
     "data": {
      "application/vnd.jupyter.widget-view+json": {
       "model_id": "346b0a33417540adbd13f43ec9451f8b",
       "version_major": 2,
       "version_minor": 0
      },
      "text/plain": [
       "Probes for 0.1:   0%|          | 0/5 [00:00<?, ?it/s]"
      ]
     },
     "metadata": {},
     "output_type": "display_data"
    },
    {
     "data": {
      "application/vnd.jupyter.widget-view+json": {
       "model_id": "ac4d9638ae554646b9adb9b2854e96c4",
       "version_major": 2,
       "version_minor": 0
      },
      "text/plain": [
       "Probes for 0.5:   0%|          | 0/5 [00:00<?, ?it/s]"
      ]
     },
     "metadata": {},
     "output_type": "display_data"
    },
    {
     "data": {
      "application/vnd.jupyter.widget-view+json": {
       "model_id": "0611df53a12b4cf4a59a6ff8b7fb38a4",
       "version_major": 2,
       "version_minor": 0
      },
      "text/plain": [
       "Probes for 0.8:   0%|          | 0/5 [00:00<?, ?it/s]"
      ]
     },
     "metadata": {},
     "output_type": "display_data"
    },
    {
     "data": {
      "application/vnd.jupyter.widget-view+json": {
       "model_id": "7bd4f40d946e40af8553534f2cce96c8",
       "version_major": 2,
       "version_minor": 0
      },
      "text/plain": [
       "Probes for 1.0:   0%|          | 0/5 [00:00<?, ?it/s]"
      ]
     },
     "metadata": {},
     "output_type": "display_data"
    },
    {
     "data": {
      "application/vnd.jupyter.widget-view+json": {
       "model_id": "4eb1559c25374bf3a7574359a8327986",
       "version_major": 2,
       "version_minor": 0
      },
      "text/plain": [
       "Processing columnar request ratios:   0%|          | 0/4 [00:00<?, ?it/s]"
      ]
     },
     "metadata": {},
     "output_type": "display_data"
    },
    {
     "data": {
      "application/vnd.jupyter.widget-view+json": {
       "model_id": "7ca71ce29e9146df9cac6a30454220ed",
       "version_major": 2,
       "version_minor": 0
      },
      "text/plain": [
       "Probes for 0.1:   0%|          | 0/5 [00:00<?, ?it/s]"
      ]
     },
     "metadata": {},
     "output_type": "display_data"
    },
    {
     "data": {
      "application/vnd.jupyter.widget-view+json": {
       "model_id": "8cd8e0d009ba4317a4e854b981432f56",
       "version_major": 2,
       "version_minor": 0
      },
      "text/plain": [
       "Probes for 0.5:   0%|          | 0/5 [00:00<?, ?it/s]"
      ]
     },
     "metadata": {},
     "output_type": "display_data"
    },
    {
     "data": {
      "application/vnd.jupyter.widget-view+json": {
       "model_id": "6e381e1dc50348bcb6ff9042e0b346b7",
       "version_major": 2,
       "version_minor": 0
      },
      "text/plain": [
       "Probes for 0.8:   0%|          | 0/5 [00:00<?, ?it/s]"
      ]
     },
     "metadata": {},
     "output_type": "display_data"
    },
    {
     "data": {
      "application/vnd.jupyter.widget-view+json": {
       "model_id": "74ef98eb03644155981b26dd30c68011",
       "version_major": 2,
       "version_minor": 0
      },
      "text/plain": [
       "Probes for 1.0:   0%|          | 0/5 [00:00<?, ?it/s]"
      ]
     },
     "metadata": {},
     "output_type": "display_data"
    },
    {
     "data": {
      "application/vnd.jupyter.widget-view+json": {
       "model_id": "0769c718f4bf4214b0cc686c1f082823",
       "version_major": 2,
       "version_minor": 0
      },
      "text/plain": [
       "Processing 6-0.3:   0%|          | 0/3 [00:00<?, ?it/s]"
      ]
     },
     "metadata": {},
     "output_type": "display_data"
    },
    {
     "data": {
      "application/vnd.jupyter.widget-view+json": {
       "model_id": "90063b24270643afb02bf444ff07fc29",
       "version_major": 2,
       "version_minor": 0
      },
      "text/plain": [
       "Processing json request ratios:   0%|          | 0/4 [00:00<?, ?it/s]"
      ]
     },
     "metadata": {},
     "output_type": "display_data"
    },
    {
     "data": {
      "application/vnd.jupyter.widget-view+json": {
       "model_id": "06709e9a2449407e8cc23faff63988f3",
       "version_major": 2,
       "version_minor": 0
      },
      "text/plain": [
       "Probes for 0.1:   0%|          | 0/5 [00:00<?, ?it/s]"
      ]
     },
     "metadata": {},
     "output_type": "display_data"
    },
    {
     "data": {
      "application/vnd.jupyter.widget-view+json": {
       "model_id": "235a8d143a3b47beabc7d0504f8c83e3",
       "version_major": 2,
       "version_minor": 0
      },
      "text/plain": [
       "Probes for 0.5:   0%|          | 0/5 [00:00<?, ?it/s]"
      ]
     },
     "metadata": {},
     "output_type": "display_data"
    },
    {
     "data": {
      "application/vnd.jupyter.widget-view+json": {
       "model_id": "3bfc47f7648348f19ac94bb360cbf4b5",
       "version_major": 2,
       "version_minor": 0
      },
      "text/plain": [
       "Probes for 0.8:   0%|          | 0/5 [00:00<?, ?it/s]"
      ]
     },
     "metadata": {},
     "output_type": "display_data"
    },
    {
     "data": {
      "application/vnd.jupyter.widget-view+json": {
       "model_id": "5515b589ac394fe894d679408494f589",
       "version_major": 2,
       "version_minor": 0
      },
      "text/plain": [
       "Probes for 1.0:   0%|          | 0/5 [00:00<?, ?it/s]"
      ]
     },
     "metadata": {},
     "output_type": "display_data"
    },
    {
     "data": {
      "application/vnd.jupyter.widget-view+json": {
       "model_id": "009d7bdc0f6642a9bfd4bc0e3fa24b2d",
       "version_major": 2,
       "version_minor": 0
      },
      "text/plain": [
       "Processing bson request ratios:   0%|          | 0/4 [00:00<?, ?it/s]"
      ]
     },
     "metadata": {},
     "output_type": "display_data"
    },
    {
     "data": {
      "application/vnd.jupyter.widget-view+json": {
       "model_id": "afcdf69e46d742c8b2b8179f5c2e98c2",
       "version_major": 2,
       "version_minor": 0
      },
      "text/plain": [
       "Probes for 0.1:   0%|          | 0/5 [00:00<?, ?it/s]"
      ]
     },
     "metadata": {},
     "output_type": "display_data"
    },
    {
     "data": {
      "application/vnd.jupyter.widget-view+json": {
       "model_id": "462e3f011b7749459996d3c492362bb6",
       "version_major": 2,
       "version_minor": 0
      },
      "text/plain": [
       "Probes for 0.5:   0%|          | 0/5 [00:00<?, ?it/s]"
      ]
     },
     "metadata": {},
     "output_type": "display_data"
    },
    {
     "data": {
      "application/vnd.jupyter.widget-view+json": {
       "model_id": "b035088c5dc84d72993f374e5f89ae5e",
       "version_major": 2,
       "version_minor": 0
      },
      "text/plain": [
       "Probes for 0.8:   0%|          | 0/5 [00:00<?, ?it/s]"
      ]
     },
     "metadata": {},
     "output_type": "display_data"
    },
    {
     "data": {
      "application/vnd.jupyter.widget-view+json": {
       "model_id": "90845a7fde004edbb1883a414ac48c27",
       "version_major": 2,
       "version_minor": 0
      },
      "text/plain": [
       "Probes for 1.0:   0%|          | 0/5 [00:00<?, ?it/s]"
      ]
     },
     "metadata": {},
     "output_type": "display_data"
    },
    {
     "data": {
      "application/vnd.jupyter.widget-view+json": {
       "model_id": "003cf4c5bb0f4885a642a724a3d16d4d",
       "version_major": 2,
       "version_minor": 0
      },
      "text/plain": [
       "Processing columnar request ratios:   0%|          | 0/4 [00:00<?, ?it/s]"
      ]
     },
     "metadata": {},
     "output_type": "display_data"
    },
    {
     "data": {
      "application/vnd.jupyter.widget-view+json": {
       "model_id": "634785b93bc14376a2e4229d70da3f7e",
       "version_major": 2,
       "version_minor": 0
      },
      "text/plain": [
       "Probes for 0.1:   0%|          | 0/5 [00:00<?, ?it/s]"
      ]
     },
     "metadata": {},
     "output_type": "display_data"
    },
    {
     "data": {
      "application/vnd.jupyter.widget-view+json": {
       "model_id": "b522a1672e81491fa9606e81b21b514c",
       "version_major": 2,
       "version_minor": 0
      },
      "text/plain": [
       "Probes for 0.5:   0%|          | 0/5 [00:00<?, ?it/s]"
      ]
     },
     "metadata": {},
     "output_type": "display_data"
    },
    {
     "data": {
      "application/vnd.jupyter.widget-view+json": {
       "model_id": "ff9576f2d6cf4d70a140afed711ef66a",
       "version_major": 2,
       "version_minor": 0
      },
      "text/plain": [
       "Probes for 0.8:   0%|          | 0/5 [00:00<?, ?it/s]"
      ]
     },
     "metadata": {},
     "output_type": "display_data"
    },
    {
     "data": {
      "application/vnd.jupyter.widget-view+json": {
       "model_id": "da400400227742559aa3549c28f3cc83",
       "version_major": 2,
       "version_minor": 0
      },
      "text/plain": [
       "Probes for 1.0:   0%|          | 0/5 [00:00<?, ?it/s]"
      ]
     },
     "metadata": {},
     "output_type": "display_data"
    }
   ],
   "source": [
    "from tqdm.notebook import tqdm\n",
    "\n",
    "import json\n",
    "\n",
    "probes_cnt = 5\n",
    "\n",
    "results = {}\n",
    "\n",
    "for ds in tqdm(datasets[31:], desc=\"Dataset\", leave=True):\n",
    "    ds_key = f\"{ds['depth']}-{ds['sparsity']:.1f}\"\n",
    "    results[ds_key] = {}\n",
    "\n",
    "    input_path = f\"{ds_path}/{ds['depth']}-{ds['sparsity']:.1f}.json\"\n",
    "    schema_path = f\"{schemas_path}/schema-{ds['depth']}.json\"\n",
    "    with open(schema_path) as f:\n",
    "        schema = json.loads(f.read())\n",
    "\n",
    "    partial_requests = [generate_partial_request(schema, r) for r in partial_request_ratios]\n",
    "\n",
    "    for format in tqdm([\"json\", \"bson\", \"columnar\"], desc=f\"Processing {ds_key}\", leave=True):\n",
    "        results[ds_key][format] = {}\n",
    "\n",
    "        # results[ds_key][format][\"write\"] = []\n",
    "        # for i in tqdm(range(probes_cnt), desc=\"Probe write\", leave=False):\n",
    "        #     output_path = f\"./temp/out-{ds['depth']}-{ds['sparsity']:.1f}.{format}\"\n",
    "        #     result = run_transform(binary_path, input_path, \"json\", output_path, format, schema_path=schema_path)\n",
    "        #     results[ds_key][format][\"write\"].append(result[\"write_duration_ns\"])\n",
    "\n",
    "        read_input_path = f\"./temp/out-{ds['depth']}-{ds['sparsity']:.1f}.{format}\"\n",
    "        for r in tqdm(partial_request_ratios, desc=f\"Processing {format} request ratios\", leave=True):\n",
    "            results[ds_key][format][f\"read_{r:.1f}\"] = []\n",
    "\n",
    "            for _ in tqdm(range(probes_cnt), desc=f\"Probes for {r:.1f}\"):\n",
    "                partial_request = generate_partial_request(schema, r)\n",
    "                result = run_read(binary_path, read_input_path, format, schema_path=schema_path, partial_request=partial_request)\n",
    "                results[ds_key][format][f\"read_{r:.1f}\"].append(result[\"read_duration_ns\"])\n"
   ]
  },
  {
   "cell_type": "code",
   "execution_count": 9,
   "metadata": {},
   "outputs": [],
   "source": [
    "import json\n",
    "\n",
    "with open(\"./read_results_mmap.json\", \"w+\") as f:\n",
    "    f.write(json.dumps(results))"
   ]
  },
  {
   "cell_type": "code",
   "execution_count": null,
   "metadata": {},
   "outputs": [],
   "source": []
  }
 ],
 "metadata": {
  "kernelspec": {
   "display_name": "Python 3",
   "language": "python",
   "name": "python3"
  },
  "language_info": {
   "codemirror_mode": {
    "name": "ipython",
    "version": 3
   },
   "file_extension": ".py",
   "mimetype": "text/x-python",
   "name": "python",
   "nbconvert_exporter": "python",
   "pygments_lexer": "ipython3",
   "version": "3.9.6"
  }
 },
 "nbformat": 4,
 "nbformat_minor": 2
}
