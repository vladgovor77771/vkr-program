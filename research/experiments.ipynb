{
 "cells": [
  {
   "cell_type": "code",
   "execution_count": 1,
   "metadata": {},
   "outputs": [],
   "source": [
    "from runner import run_read, run_transform, run_generate_dataset\n",
    "from generator import generate_partial_request"
   ]
  },
  {
   "cell_type": "code",
   "execution_count": 2,
   "metadata": {},
   "outputs": [],
   "source": [
    "# all for chunk size ~128mb\n",
    "datasets = [\n",
    "    {'depth': 0, 'sparsity': 0.0, 'docs_count': 625000},\n",
    "    {'depth': 0, 'sparsity': 0.1, 'docs_count': 675000},\n",
    "    {'depth': 0, 'sparsity': 0.2, 'docs_count': 725000},\n",
    "    {'depth': 0, 'sparsity': 0.3, 'docs_count': 775000},\n",
    "    {'depth': 0, 'sparsity': 0.4, 'docs_count': 825000},\n",
    "    {'depth': 1, 'sparsity': 0.0, 'docs_count': 95000},\n",
    "    {'depth': 1, 'sparsity': 0.1, 'docs_count': 105000},\n",
    "    {'depth': 1, 'sparsity': 0.2, 'docs_count': 122500},\n",
    "    {'depth': 1, 'sparsity': 0.3, 'docs_count': 150000},\n",
    "    {'depth': 1, 'sparsity': 0.4, 'docs_count': 182500},\n",
    "    {'depth': 2, 'sparsity': 0.0, 'docs_count': 17500},\n",
    "    {'depth': 2, 'sparsity': 0.1, 'docs_count': 22500},\n",
    "    {'depth': 2, 'sparsity': 0.2, 'docs_count': 30000},\n",
    "    {'depth': 2, 'sparsity': 0.3, 'docs_count': 39000},\n",
    "    {'depth': 2, 'sparsity': 0.4, 'docs_count': 55000},\n",
    "    {'depth': 3, 'sparsity': 0.0, 'docs_count': 3750},\n",
    "    {'depth': 3, 'sparsity': 0.1, 'docs_count': 5500},\n",
    "    {'depth': 3, 'sparsity': 0.2, 'docs_count': 8500},\n",
    "    {'depth': 3, 'sparsity': 0.3, 'docs_count': 12500},\n",
    "    {'depth': 3, 'sparsity': 0.4, 'docs_count': 22500},\n",
    "    {'depth': 4, 'sparsity': 0.0, 'docs_count': 400},\n",
    "    {'depth': 4, 'sparsity': 0.1, 'docs_count': 600},\n",
    "    {'depth': 4, 'sparsity': 0.2, 'docs_count': 1000},\n",
    "    {'depth': 4, 'sparsity': 0.3, 'docs_count': 1800},\n",
    "    {'depth': 4, 'sparsity': 0.4, 'docs_count': 3500},\n",
    "    {'depth': 5, 'sparsity': 0.0, 'docs_count': 85},\n",
    "    {'depth': 5, 'sparsity': 0.1, 'docs_count': 135},\n",
    "    {'depth': 5, 'sparsity': 0.2, 'docs_count': 270},\n",
    "    {'depth': 5, 'sparsity': 0.3, 'docs_count': 550},\n",
    "    {'depth': 5, 'sparsity': 0.4, 'docs_count': 1250},\n",
    "    {'depth': 6, 'sparsity': 0.0, 'docs_count': 22},\n",
    "    {'depth': 6, 'sparsity': 0.1, 'docs_count': 42},\n",
    "    {'depth': 6, 'sparsity': 0.2, 'docs_count': 85},\n",
    "    {'depth': 6, 'sparsity': 0.3, 'docs_count': 205},\n",
    "    {'depth': 6, 'sparsity': 0.4, 'docs_count': 550},\n",
    "]\n",
    "\n",
    "partial_request_ratios = [0.1, 0.5, 0.8, 1.0]"
   ]
  },
  {
   "cell_type": "code",
   "execution_count": 3,
   "metadata": {},
   "outputs": [],
   "source": [
    "binary_path = \"../build/bin/cli\"\n",
    "ds_path = \"./datasets/documents\"\n",
    "schemas_path = \"./datasets/schemas\"\n",
    "temp_path = \"./datasets/temp\""
   ]
  },
  {
   "cell_type": "code",
   "execution_count": 4,
   "metadata": {},
   "outputs": [],
   "source": [
    "def gen(ds):\n",
    "    run_generate_dataset(\n",
    "        \"../build/bin/cli\",\n",
    "        f\"./datasets/documents/{ds['depth']}-{ds['sparsity']:.1f}.json\",\n",
    "        f\"./datasets/schemas/schema-{ds['depth']}.json\",\n",
    "        docs_count=ds[\"docs_count\"],\n",
    "        sparsity=ds[\"sparsity\"]\n",
    "    )"
   ]
  },
  {
   "cell_type": "code",
   "execution_count": 5,
   "metadata": {},
   "outputs": [],
   "source": [
    "import os\n",
    "\n",
    "# os.mkdir(\"./datasets\")\n",
    "# os.mkdir(\"./datasets/documents\")\n",
    "# os.mkdir(\"./datasets/schemas\")\n",
    "# os.mkdir(\"./datasets/temp\")\n",
    "# for ds in datasets:\n",
    "#     gen(ds)"
   ]
  },
  {
   "cell_type": "code",
   "execution_count": 6,
   "metadata": {},
   "outputs": [
    {
     "data": {
      "application/vnd.jupyter.widget-view+json": {
       "model_id": "b3bb5abf208342f08bcdbd800dace546",
       "version_major": 2,
       "version_minor": 0
      },
      "text/plain": [
       "Dataset:   0%|          | 0/35 [00:00<?, ?it/s]"
      ]
     },
     "metadata": {},
     "output_type": "display_data"
    },
    {
     "data": {
      "application/vnd.jupyter.widget-view+json": {
       "model_id": "f3020b7766094100955cf475b07790b7",
       "version_major": 2,
       "version_minor": 0
      },
      "text/plain": [
       "Processing 0-0.0:   0%|          | 0/3 [00:00<?, ?it/s]"
      ]
     },
     "metadata": {},
     "output_type": "display_data"
    },
    {
     "data": {
      "application/vnd.jupyter.widget-view+json": {
       "model_id": "99ed51d099f5468db4ef679c0197cd7f",
       "version_major": 2,
       "version_minor": 0
      },
      "text/plain": [
       "Processing json request ratios:   0%|          | 0/4 [00:00<?, ?it/s]"
      ]
     },
     "metadata": {},
     "output_type": "display_data"
    },
    {
     "data": {
      "application/vnd.jupyter.widget-view+json": {
       "model_id": "ae2f5293e7ba4b258aa43b710278b153",
       "version_major": 2,
       "version_minor": 0
      },
      "text/plain": [
       "Probes for 0.1:   0%|          | 0/5 [00:00<?, ?it/s]"
      ]
     },
     "metadata": {},
     "output_type": "display_data"
    },
    {
     "data": {
      "application/vnd.jupyter.widget-view+json": {
       "model_id": "d01ae32d6bd742928343fed75c5dee4f",
       "version_major": 2,
       "version_minor": 0
      },
      "text/plain": [
       "Probes for 0.5:   0%|          | 0/5 [00:00<?, ?it/s]"
      ]
     },
     "metadata": {},
     "output_type": "display_data"
    },
    {
     "data": {
      "application/vnd.jupyter.widget-view+json": {
       "model_id": "c9920e5fcaaa4072b35083f0ea99c6e3",
       "version_major": 2,
       "version_minor": 0
      },
      "text/plain": [
       "Probes for 0.8:   0%|          | 0/5 [00:00<?, ?it/s]"
      ]
     },
     "metadata": {},
     "output_type": "display_data"
    },
    {
     "data": {
      "application/vnd.jupyter.widget-view+json": {
       "model_id": "f193cccd74bd46149ba45e1b2e84ed7d",
       "version_major": 2,
       "version_minor": 0
      },
      "text/plain": [
       "Probes for 1.0:   0%|          | 0/5 [00:00<?, ?it/s]"
      ]
     },
     "metadata": {},
     "output_type": "display_data"
    },
    {
     "data": {
      "application/vnd.jupyter.widget-view+json": {
       "model_id": "917433c0f88a4ed3888b7db52f03074e",
       "version_major": 2,
       "version_minor": 0
      },
      "text/plain": [
       "Processing bson request ratios:   0%|          | 0/4 [00:00<?, ?it/s]"
      ]
     },
     "metadata": {},
     "output_type": "display_data"
    },
    {
     "data": {
      "application/vnd.jupyter.widget-view+json": {
       "model_id": "a8ec17628b9f46fdb85b85beaadb4773",
       "version_major": 2,
       "version_minor": 0
      },
      "text/plain": [
       "Probes for 0.1:   0%|          | 0/5 [00:00<?, ?it/s]"
      ]
     },
     "metadata": {},
     "output_type": "display_data"
    },
    {
     "data": {
      "application/vnd.jupyter.widget-view+json": {
       "model_id": "c5683494ce6e4cbab5e5ef104add706e",
       "version_major": 2,
       "version_minor": 0
      },
      "text/plain": [
       "Probes for 0.5:   0%|          | 0/5 [00:00<?, ?it/s]"
      ]
     },
     "metadata": {},
     "output_type": "display_data"
    },
    {
     "data": {
      "application/vnd.jupyter.widget-view+json": {
       "model_id": "4493446f577049e7baf1f9bc0f0181b3",
       "version_major": 2,
       "version_minor": 0
      },
      "text/plain": [
       "Probes for 0.8:   0%|          | 0/5 [00:00<?, ?it/s]"
      ]
     },
     "metadata": {},
     "output_type": "display_data"
    },
    {
     "data": {
      "application/vnd.jupyter.widget-view+json": {
       "model_id": "f0731106fb974ae0b20a011d67286592",
       "version_major": 2,
       "version_minor": 0
      },
      "text/plain": [
       "Probes for 1.0:   0%|          | 0/5 [00:00<?, ?it/s]"
      ]
     },
     "metadata": {},
     "output_type": "display_data"
    },
    {
     "data": {
      "application/vnd.jupyter.widget-view+json": {
       "model_id": "40204b0ee60f4fea8781601f2cc5a5c4",
       "version_major": 2,
       "version_minor": 0
      },
      "text/plain": [
       "Processing columnar request ratios:   0%|          | 0/4 [00:00<?, ?it/s]"
      ]
     },
     "metadata": {},
     "output_type": "display_data"
    },
    {
     "data": {
      "application/vnd.jupyter.widget-view+json": {
       "model_id": "566e5bfc57c54e719687ec94e6acfc84",
       "version_major": 2,
       "version_minor": 0
      },
      "text/plain": [
       "Probes for 0.1:   0%|          | 0/5 [00:00<?, ?it/s]"
      ]
     },
     "metadata": {},
     "output_type": "display_data"
    },
    {
     "data": {
      "application/vnd.jupyter.widget-view+json": {
       "model_id": "e531a693138a4191a7ab14d93e0f593e",
       "version_major": 2,
       "version_minor": 0
      },
      "text/plain": [
       "Probes for 0.5:   0%|          | 0/5 [00:00<?, ?it/s]"
      ]
     },
     "metadata": {},
     "output_type": "display_data"
    },
    {
     "data": {
      "application/vnd.jupyter.widget-view+json": {
       "model_id": "ac9bf6f2408f420fa0874bbfeab71873",
       "version_major": 2,
       "version_minor": 0
      },
      "text/plain": [
       "Probes for 0.8:   0%|          | 0/5 [00:00<?, ?it/s]"
      ]
     },
     "metadata": {},
     "output_type": "display_data"
    },
    {
     "data": {
      "application/vnd.jupyter.widget-view+json": {
       "model_id": "401ff872d45346ffbb135fe3dd247a66",
       "version_major": 2,
       "version_minor": 0
      },
      "text/plain": [
       "Probes for 1.0:   0%|          | 0/5 [00:00<?, ?it/s]"
      ]
     },
     "metadata": {},
     "output_type": "display_data"
    },
    {
     "data": {
      "application/vnd.jupyter.widget-view+json": {
       "model_id": "9ac22dc532aa42bfae35ce6558422842",
       "version_major": 2,
       "version_minor": 0
      },
      "text/plain": [
       "Processing 0-0.1:   0%|          | 0/3 [00:00<?, ?it/s]"
      ]
     },
     "metadata": {},
     "output_type": "display_data"
    },
    {
     "data": {
      "application/vnd.jupyter.widget-view+json": {
       "model_id": "938ce78708734411a0bb3cd7b00dc13b",
       "version_major": 2,
       "version_minor": 0
      },
      "text/plain": [
       "Processing json request ratios:   0%|          | 0/4 [00:00<?, ?it/s]"
      ]
     },
     "metadata": {},
     "output_type": "display_data"
    },
    {
     "data": {
      "application/vnd.jupyter.widget-view+json": {
       "model_id": "b9918673f9954334b1d0c256107a894b",
       "version_major": 2,
       "version_minor": 0
      },
      "text/plain": [
       "Probes for 0.1:   0%|          | 0/5 [00:00<?, ?it/s]"
      ]
     },
     "metadata": {},
     "output_type": "display_data"
    },
    {
     "data": {
      "application/vnd.jupyter.widget-view+json": {
       "model_id": "7472d996108740b68403880ce5956ccb",
       "version_major": 2,
       "version_minor": 0
      },
      "text/plain": [
       "Probes for 0.5:   0%|          | 0/5 [00:00<?, ?it/s]"
      ]
     },
     "metadata": {},
     "output_type": "display_data"
    },
    {
     "data": {
      "application/vnd.jupyter.widget-view+json": {
       "model_id": "71faa1d5a12a44198b868f22f4dbeb19",
       "version_major": 2,
       "version_minor": 0
      },
      "text/plain": [
       "Probes for 0.8:   0%|          | 0/5 [00:00<?, ?it/s]"
      ]
     },
     "metadata": {},
     "output_type": "display_data"
    },
    {
     "data": {
      "application/vnd.jupyter.widget-view+json": {
       "model_id": "13778f1e042b439fbb68cd94d9099fc8",
       "version_major": 2,
       "version_minor": 0
      },
      "text/plain": [
       "Probes for 1.0:   0%|          | 0/5 [00:00<?, ?it/s]"
      ]
     },
     "metadata": {},
     "output_type": "display_data"
    },
    {
     "data": {
      "application/vnd.jupyter.widget-view+json": {
       "model_id": "61c1b0dc74554fee86b8d4abeaad73de",
       "version_major": 2,
       "version_minor": 0
      },
      "text/plain": [
       "Processing bson request ratios:   0%|          | 0/4 [00:00<?, ?it/s]"
      ]
     },
     "metadata": {},
     "output_type": "display_data"
    },
    {
     "data": {
      "application/vnd.jupyter.widget-view+json": {
       "model_id": "e07c5d5f6d9e4485855f2cf0695debd3",
       "version_major": 2,
       "version_minor": 0
      },
      "text/plain": [
       "Probes for 0.1:   0%|          | 0/5 [00:00<?, ?it/s]"
      ]
     },
     "metadata": {},
     "output_type": "display_data"
    },
    {
     "data": {
      "application/vnd.jupyter.widget-view+json": {
       "model_id": "ad97ebb0b1d8421bbde5368710aa9d32",
       "version_major": 2,
       "version_minor": 0
      },
      "text/plain": [
       "Probes for 0.5:   0%|          | 0/5 [00:00<?, ?it/s]"
      ]
     },
     "metadata": {},
     "output_type": "display_data"
    },
    {
     "data": {
      "application/vnd.jupyter.widget-view+json": {
       "model_id": "6bd113452fc44b919eebfdf658ad2da7",
       "version_major": 2,
       "version_minor": 0
      },
      "text/plain": [
       "Probes for 0.8:   0%|          | 0/5 [00:00<?, ?it/s]"
      ]
     },
     "metadata": {},
     "output_type": "display_data"
    },
    {
     "data": {
      "application/vnd.jupyter.widget-view+json": {
       "model_id": "c0d035e1dbed49de9e04cec50dcb7a4a",
       "version_major": 2,
       "version_minor": 0
      },
      "text/plain": [
       "Probes for 1.0:   0%|          | 0/5 [00:00<?, ?it/s]"
      ]
     },
     "metadata": {},
     "output_type": "display_data"
    },
    {
     "data": {
      "application/vnd.jupyter.widget-view+json": {
       "model_id": "d7194db23c0849f3985b19dd2aeca582",
       "version_major": 2,
       "version_minor": 0
      },
      "text/plain": [
       "Processing columnar request ratios:   0%|          | 0/4 [00:00<?, ?it/s]"
      ]
     },
     "metadata": {},
     "output_type": "display_data"
    },
    {
     "data": {
      "application/vnd.jupyter.widget-view+json": {
       "model_id": "415c7f6f1e5e426ba6acaec7772cd05b",
       "version_major": 2,
       "version_minor": 0
      },
      "text/plain": [
       "Probes for 0.1:   0%|          | 0/5 [00:00<?, ?it/s]"
      ]
     },
     "metadata": {},
     "output_type": "display_data"
    },
    {
     "data": {
      "application/vnd.jupyter.widget-view+json": {
       "model_id": "bc1e1dc554044fb395c38d67c55be5be",
       "version_major": 2,
       "version_minor": 0
      },
      "text/plain": [
       "Probes for 0.5:   0%|          | 0/5 [00:00<?, ?it/s]"
      ]
     },
     "metadata": {},
     "output_type": "display_data"
    },
    {
     "data": {
      "application/vnd.jupyter.widget-view+json": {
       "model_id": "6886ddb26a3a4d7da5dd5045e1a83365",
       "version_major": 2,
       "version_minor": 0
      },
      "text/plain": [
       "Probes for 0.8:   0%|          | 0/5 [00:00<?, ?it/s]"
      ]
     },
     "metadata": {},
     "output_type": "display_data"
    },
    {
     "data": {
      "application/vnd.jupyter.widget-view+json": {
       "model_id": "bc28ce026db14b84935b7088db168994",
       "version_major": 2,
       "version_minor": 0
      },
      "text/plain": [
       "Probes for 1.0:   0%|          | 0/5 [00:00<?, ?it/s]"
      ]
     },
     "metadata": {},
     "output_type": "display_data"
    },
    {
     "data": {
      "application/vnd.jupyter.widget-view+json": {
       "model_id": "257a980f45be4ba98822d2efe8629232",
       "version_major": 2,
       "version_minor": 0
      },
      "text/plain": [
       "Processing 0-0.2:   0%|          | 0/3 [00:00<?, ?it/s]"
      ]
     },
     "metadata": {},
     "output_type": "display_data"
    },
    {
     "data": {
      "application/vnd.jupyter.widget-view+json": {
       "model_id": "794454162f6a4cbe8e7a656869e59dc2",
       "version_major": 2,
       "version_minor": 0
      },
      "text/plain": [
       "Processing json request ratios:   0%|          | 0/4 [00:00<?, ?it/s]"
      ]
     },
     "metadata": {},
     "output_type": "display_data"
    },
    {
     "data": {
      "application/vnd.jupyter.widget-view+json": {
       "model_id": "41fc40066c7c43f48aec882ff9a51f61",
       "version_major": 2,
       "version_minor": 0
      },
      "text/plain": [
       "Probes for 0.1:   0%|          | 0/5 [00:00<?, ?it/s]"
      ]
     },
     "metadata": {},
     "output_type": "display_data"
    },
    {
     "data": {
      "application/vnd.jupyter.widget-view+json": {
       "model_id": "aed293fc05fc49a79f5305208e318a18",
       "version_major": 2,
       "version_minor": 0
      },
      "text/plain": [
       "Probes for 0.5:   0%|          | 0/5 [00:00<?, ?it/s]"
      ]
     },
     "metadata": {},
     "output_type": "display_data"
    },
    {
     "data": {
      "application/vnd.jupyter.widget-view+json": {
       "model_id": "6ac704a5a8164d61809fc7b4988d921d",
       "version_major": 2,
       "version_minor": 0
      },
      "text/plain": [
       "Probes for 0.8:   0%|          | 0/5 [00:00<?, ?it/s]"
      ]
     },
     "metadata": {},
     "output_type": "display_data"
    },
    {
     "data": {
      "application/vnd.jupyter.widget-view+json": {
       "model_id": "8e1e53089f694c91872ca291f3f6a7c0",
       "version_major": 2,
       "version_minor": 0
      },
      "text/plain": [
       "Probes for 1.0:   0%|          | 0/5 [00:00<?, ?it/s]"
      ]
     },
     "metadata": {},
     "output_type": "display_data"
    },
    {
     "data": {
      "application/vnd.jupyter.widget-view+json": {
       "model_id": "1542b3797277497db3ced7c12c9bd55c",
       "version_major": 2,
       "version_minor": 0
      },
      "text/plain": [
       "Processing bson request ratios:   0%|          | 0/4 [00:00<?, ?it/s]"
      ]
     },
     "metadata": {},
     "output_type": "display_data"
    },
    {
     "data": {
      "application/vnd.jupyter.widget-view+json": {
       "model_id": "c1a3d87ef4fe402d88300b3fbd7151c8",
       "version_major": 2,
       "version_minor": 0
      },
      "text/plain": [
       "Probes for 0.1:   0%|          | 0/5 [00:00<?, ?it/s]"
      ]
     },
     "metadata": {},
     "output_type": "display_data"
    },
    {
     "data": {
      "application/vnd.jupyter.widget-view+json": {
       "model_id": "0fe49c2932624778af2676c50b8629c5",
       "version_major": 2,
       "version_minor": 0
      },
      "text/plain": [
       "Probes for 0.5:   0%|          | 0/5 [00:00<?, ?it/s]"
      ]
     },
     "metadata": {},
     "output_type": "display_data"
    },
    {
     "data": {
      "application/vnd.jupyter.widget-view+json": {
       "model_id": "8530f38a211f4da28c8389737ef37a03",
       "version_major": 2,
       "version_minor": 0
      },
      "text/plain": [
       "Probes for 0.8:   0%|          | 0/5 [00:00<?, ?it/s]"
      ]
     },
     "metadata": {},
     "output_type": "display_data"
    },
    {
     "data": {
      "application/vnd.jupyter.widget-view+json": {
       "model_id": "f81c059d9d324c52a043b1b421a94696",
       "version_major": 2,
       "version_minor": 0
      },
      "text/plain": [
       "Probes for 1.0:   0%|          | 0/5 [00:00<?, ?it/s]"
      ]
     },
     "metadata": {},
     "output_type": "display_data"
    },
    {
     "data": {
      "application/vnd.jupyter.widget-view+json": {
       "model_id": "f00cc454e2ee4c0fa4f5783a9ed37ff4",
       "version_major": 2,
       "version_minor": 0
      },
      "text/plain": [
       "Processing columnar request ratios:   0%|          | 0/4 [00:00<?, ?it/s]"
      ]
     },
     "metadata": {},
     "output_type": "display_data"
    },
    {
     "data": {
      "application/vnd.jupyter.widget-view+json": {
       "model_id": "28241626c0774ecca27f30f654a4ab14",
       "version_major": 2,
       "version_minor": 0
      },
      "text/plain": [
       "Probes for 0.1:   0%|          | 0/5 [00:00<?, ?it/s]"
      ]
     },
     "metadata": {},
     "output_type": "display_data"
    },
    {
     "data": {
      "application/vnd.jupyter.widget-view+json": {
       "model_id": "5d5b4e375ebd42c2a2e64028580da038",
       "version_major": 2,
       "version_minor": 0
      },
      "text/plain": [
       "Probes for 0.5:   0%|          | 0/5 [00:00<?, ?it/s]"
      ]
     },
     "metadata": {},
     "output_type": "display_data"
    },
    {
     "data": {
      "application/vnd.jupyter.widget-view+json": {
       "model_id": "e9805980ddb440b1ac1e421471da091a",
       "version_major": 2,
       "version_minor": 0
      },
      "text/plain": [
       "Probes for 0.8:   0%|          | 0/5 [00:00<?, ?it/s]"
      ]
     },
     "metadata": {},
     "output_type": "display_data"
    },
    {
     "data": {
      "application/vnd.jupyter.widget-view+json": {
       "model_id": "ac8dd037abf04ce8a7b1e460bcf82799",
       "version_major": 2,
       "version_minor": 0
      },
      "text/plain": [
       "Probes for 1.0:   0%|          | 0/5 [00:00<?, ?it/s]"
      ]
     },
     "metadata": {},
     "output_type": "display_data"
    },
    {
     "data": {
      "application/vnd.jupyter.widget-view+json": {
       "model_id": "a0e67955d217494db1d98bd5732b779c",
       "version_major": 2,
       "version_minor": 0
      },
      "text/plain": [
       "Processing 0-0.3:   0%|          | 0/3 [00:00<?, ?it/s]"
      ]
     },
     "metadata": {},
     "output_type": "display_data"
    },
    {
     "data": {
      "application/vnd.jupyter.widget-view+json": {
       "model_id": "d8a476fc56d4411eae5193496cfc0086",
       "version_major": 2,
       "version_minor": 0
      },
      "text/plain": [
       "Processing json request ratios:   0%|          | 0/4 [00:00<?, ?it/s]"
      ]
     },
     "metadata": {},
     "output_type": "display_data"
    },
    {
     "data": {
      "application/vnd.jupyter.widget-view+json": {
       "model_id": "4b2a44e2c7c14cef814c2bb08958c7e7",
       "version_major": 2,
       "version_minor": 0
      },
      "text/plain": [
       "Probes for 0.1:   0%|          | 0/5 [00:00<?, ?it/s]"
      ]
     },
     "metadata": {},
     "output_type": "display_data"
    },
    {
     "data": {
      "application/vnd.jupyter.widget-view+json": {
       "model_id": "5ceb451dcbec418799b0829dd0e3cb77",
       "version_major": 2,
       "version_minor": 0
      },
      "text/plain": [
       "Probes for 0.5:   0%|          | 0/5 [00:00<?, ?it/s]"
      ]
     },
     "metadata": {},
     "output_type": "display_data"
    },
    {
     "data": {
      "application/vnd.jupyter.widget-view+json": {
       "model_id": "cc69fb88f3664e80880227ac1e6e92dc",
       "version_major": 2,
       "version_minor": 0
      },
      "text/plain": [
       "Probes for 0.8:   0%|          | 0/5 [00:00<?, ?it/s]"
      ]
     },
     "metadata": {},
     "output_type": "display_data"
    },
    {
     "data": {
      "application/vnd.jupyter.widget-view+json": {
       "model_id": "0888f3defc574193893f5ee8994c211c",
       "version_major": 2,
       "version_minor": 0
      },
      "text/plain": [
       "Probes for 1.0:   0%|          | 0/5 [00:00<?, ?it/s]"
      ]
     },
     "metadata": {},
     "output_type": "display_data"
    },
    {
     "data": {
      "application/vnd.jupyter.widget-view+json": {
       "model_id": "0820aea9f01f416780c2e7c5d49b9093",
       "version_major": 2,
       "version_minor": 0
      },
      "text/plain": [
       "Processing bson request ratios:   0%|          | 0/4 [00:00<?, ?it/s]"
      ]
     },
     "metadata": {},
     "output_type": "display_data"
    },
    {
     "data": {
      "application/vnd.jupyter.widget-view+json": {
       "model_id": "72c05379b9444400a3e09670d65b05d6",
       "version_major": 2,
       "version_minor": 0
      },
      "text/plain": [
       "Probes for 0.1:   0%|          | 0/5 [00:00<?, ?it/s]"
      ]
     },
     "metadata": {},
     "output_type": "display_data"
    },
    {
     "data": {
      "application/vnd.jupyter.widget-view+json": {
       "model_id": "3151e86d695d471e85c70de9fd2e8cb3",
       "version_major": 2,
       "version_minor": 0
      },
      "text/plain": [
       "Probes for 0.5:   0%|          | 0/5 [00:00<?, ?it/s]"
      ]
     },
     "metadata": {},
     "output_type": "display_data"
    },
    {
     "data": {
      "application/vnd.jupyter.widget-view+json": {
       "model_id": "12f20f6cb3e84e7a839aec2b3433145c",
       "version_major": 2,
       "version_minor": 0
      },
      "text/plain": [
       "Probes for 0.8:   0%|          | 0/5 [00:00<?, ?it/s]"
      ]
     },
     "metadata": {},
     "output_type": "display_data"
    },
    {
     "data": {
      "application/vnd.jupyter.widget-view+json": {
       "model_id": "b20056df130b46dcb15bbc8ca81e33a2",
       "version_major": 2,
       "version_minor": 0
      },
      "text/plain": [
       "Probes for 1.0:   0%|          | 0/5 [00:00<?, ?it/s]"
      ]
     },
     "metadata": {},
     "output_type": "display_data"
    },
    {
     "data": {
      "application/vnd.jupyter.widget-view+json": {
       "model_id": "d70602cdfa5a41178e610b1ed568a593",
       "version_major": 2,
       "version_minor": 0
      },
      "text/plain": [
       "Processing columnar request ratios:   0%|          | 0/4 [00:00<?, ?it/s]"
      ]
     },
     "metadata": {},
     "output_type": "display_data"
    },
    {
     "data": {
      "application/vnd.jupyter.widget-view+json": {
       "model_id": "dbece996cf624ec3aa7515707becd151",
       "version_major": 2,
       "version_minor": 0
      },
      "text/plain": [
       "Probes for 0.1:   0%|          | 0/5 [00:00<?, ?it/s]"
      ]
     },
     "metadata": {},
     "output_type": "display_data"
    },
    {
     "data": {
      "application/vnd.jupyter.widget-view+json": {
       "model_id": "eb03d78eef674c68b75c91ab6100b24f",
       "version_major": 2,
       "version_minor": 0
      },
      "text/plain": [
       "Probes for 0.5:   0%|          | 0/5 [00:00<?, ?it/s]"
      ]
     },
     "metadata": {},
     "output_type": "display_data"
    },
    {
     "data": {
      "application/vnd.jupyter.widget-view+json": {
       "model_id": "ac21fc28a855440f9e360990e896dfa4",
       "version_major": 2,
       "version_minor": 0
      },
      "text/plain": [
       "Probes for 0.8:   0%|          | 0/5 [00:00<?, ?it/s]"
      ]
     },
     "metadata": {},
     "output_type": "display_data"
    },
    {
     "data": {
      "application/vnd.jupyter.widget-view+json": {
       "model_id": "35e4c2ff682846b6a26555f38c25ca0b",
       "version_major": 2,
       "version_minor": 0
      },
      "text/plain": [
       "Probes for 1.0:   0%|          | 0/5 [00:00<?, ?it/s]"
      ]
     },
     "metadata": {},
     "output_type": "display_data"
    },
    {
     "data": {
      "application/vnd.jupyter.widget-view+json": {
       "model_id": "5021074263e948b68729b8470ca62cc5",
       "version_major": 2,
       "version_minor": 0
      },
      "text/plain": [
       "Processing 0-0.4:   0%|          | 0/3 [00:00<?, ?it/s]"
      ]
     },
     "metadata": {},
     "output_type": "display_data"
    },
    {
     "data": {
      "application/vnd.jupyter.widget-view+json": {
       "model_id": "f6b11d74660047469fb737935e33f71b",
       "version_major": 2,
       "version_minor": 0
      },
      "text/plain": [
       "Processing json request ratios:   0%|          | 0/4 [00:00<?, ?it/s]"
      ]
     },
     "metadata": {},
     "output_type": "display_data"
    },
    {
     "data": {
      "application/vnd.jupyter.widget-view+json": {
       "model_id": "30bfd9ce80de433aa23491531387097e",
       "version_major": 2,
       "version_minor": 0
      },
      "text/plain": [
       "Probes for 0.1:   0%|          | 0/5 [00:00<?, ?it/s]"
      ]
     },
     "metadata": {},
     "output_type": "display_data"
    },
    {
     "data": {
      "application/vnd.jupyter.widget-view+json": {
       "model_id": "5956363fadb04c6a9dc3b12a645d7033",
       "version_major": 2,
       "version_minor": 0
      },
      "text/plain": [
       "Probes for 0.5:   0%|          | 0/5 [00:00<?, ?it/s]"
      ]
     },
     "metadata": {},
     "output_type": "display_data"
    },
    {
     "data": {
      "application/vnd.jupyter.widget-view+json": {
       "model_id": "6c881f88641e488d83e22bfe8d43fb15",
       "version_major": 2,
       "version_minor": 0
      },
      "text/plain": [
       "Probes for 0.8:   0%|          | 0/5 [00:00<?, ?it/s]"
      ]
     },
     "metadata": {},
     "output_type": "display_data"
    },
    {
     "data": {
      "application/vnd.jupyter.widget-view+json": {
       "model_id": "51b46d2497624c4b9490b6bcecb905ff",
       "version_major": 2,
       "version_minor": 0
      },
      "text/plain": [
       "Probes for 1.0:   0%|          | 0/5 [00:00<?, ?it/s]"
      ]
     },
     "metadata": {},
     "output_type": "display_data"
    },
    {
     "data": {
      "application/vnd.jupyter.widget-view+json": {
       "model_id": "e53805d0ed8046d59b359dcbdb697318",
       "version_major": 2,
       "version_minor": 0
      },
      "text/plain": [
       "Processing bson request ratios:   0%|          | 0/4 [00:00<?, ?it/s]"
      ]
     },
     "metadata": {},
     "output_type": "display_data"
    },
    {
     "data": {
      "application/vnd.jupyter.widget-view+json": {
       "model_id": "fc03d73cc6d44c26aab4adf2a5ac0ee4",
       "version_major": 2,
       "version_minor": 0
      },
      "text/plain": [
       "Probes for 0.1:   0%|          | 0/5 [00:00<?, ?it/s]"
      ]
     },
     "metadata": {},
     "output_type": "display_data"
    },
    {
     "data": {
      "application/vnd.jupyter.widget-view+json": {
       "model_id": "a79dcd7673d94a91a126ce6c8a9d6c89",
       "version_major": 2,
       "version_minor": 0
      },
      "text/plain": [
       "Probes for 0.5:   0%|          | 0/5 [00:00<?, ?it/s]"
      ]
     },
     "metadata": {},
     "output_type": "display_data"
    },
    {
     "data": {
      "application/vnd.jupyter.widget-view+json": {
       "model_id": "dfc1d46ae9284da9aad93380ea645815",
       "version_major": 2,
       "version_minor": 0
      },
      "text/plain": [
       "Probes for 0.8:   0%|          | 0/5 [00:00<?, ?it/s]"
      ]
     },
     "metadata": {},
     "output_type": "display_data"
    },
    {
     "data": {
      "application/vnd.jupyter.widget-view+json": {
       "model_id": "1dec75b9415947b0be9e06c5efe1cc87",
       "version_major": 2,
       "version_minor": 0
      },
      "text/plain": [
       "Probes for 1.0:   0%|          | 0/5 [00:00<?, ?it/s]"
      ]
     },
     "metadata": {},
     "output_type": "display_data"
    },
    {
     "data": {
      "application/vnd.jupyter.widget-view+json": {
       "model_id": "bd84180f6e4447f2908f787e87615ab2",
       "version_major": 2,
       "version_minor": 0
      },
      "text/plain": [
       "Processing columnar request ratios:   0%|          | 0/4 [00:00<?, ?it/s]"
      ]
     },
     "metadata": {},
     "output_type": "display_data"
    },
    {
     "data": {
      "application/vnd.jupyter.widget-view+json": {
       "model_id": "da2fa0a068d14b17b916510a3e0996f6",
       "version_major": 2,
       "version_minor": 0
      },
      "text/plain": [
       "Probes for 0.1:   0%|          | 0/5 [00:00<?, ?it/s]"
      ]
     },
     "metadata": {},
     "output_type": "display_data"
    },
    {
     "data": {
      "application/vnd.jupyter.widget-view+json": {
       "model_id": "04e2bde39db74f8da8a8ca0697756d1b",
       "version_major": 2,
       "version_minor": 0
      },
      "text/plain": [
       "Probes for 0.5:   0%|          | 0/5 [00:00<?, ?it/s]"
      ]
     },
     "metadata": {},
     "output_type": "display_data"
    },
    {
     "data": {
      "application/vnd.jupyter.widget-view+json": {
       "model_id": "a2975499d1f446d1b6da6c9a7f0fd3b5",
       "version_major": 2,
       "version_minor": 0
      },
      "text/plain": [
       "Probes for 0.8:   0%|          | 0/5 [00:00<?, ?it/s]"
      ]
     },
     "metadata": {},
     "output_type": "display_data"
    },
    {
     "data": {
      "application/vnd.jupyter.widget-view+json": {
       "model_id": "012fc454463b4d9ebc9fe488c4fc2133",
       "version_major": 2,
       "version_minor": 0
      },
      "text/plain": [
       "Probes for 1.0:   0%|          | 0/5 [00:00<?, ?it/s]"
      ]
     },
     "metadata": {},
     "output_type": "display_data"
    },
    {
     "data": {
      "application/vnd.jupyter.widget-view+json": {
       "model_id": "50b20a3f6ddb441cbc2185970c0889c6",
       "version_major": 2,
       "version_minor": 0
      },
      "text/plain": [
       "Processing 1-0.0:   0%|          | 0/3 [00:00<?, ?it/s]"
      ]
     },
     "metadata": {},
     "output_type": "display_data"
    },
    {
     "data": {
      "application/vnd.jupyter.widget-view+json": {
       "model_id": "836ebb74684d45579c9e7c0adbb1f3e8",
       "version_major": 2,
       "version_minor": 0
      },
      "text/plain": [
       "Processing json request ratios:   0%|          | 0/4 [00:00<?, ?it/s]"
      ]
     },
     "metadata": {},
     "output_type": "display_data"
    },
    {
     "data": {
      "application/vnd.jupyter.widget-view+json": {
       "model_id": "dbef2a9bc9304ef7867d3de6e93e7a76",
       "version_major": 2,
       "version_minor": 0
      },
      "text/plain": [
       "Probes for 0.1:   0%|          | 0/5 [00:00<?, ?it/s]"
      ]
     },
     "metadata": {},
     "output_type": "display_data"
    },
    {
     "data": {
      "application/vnd.jupyter.widget-view+json": {
       "model_id": "ab6cf8aac5604ed08c8970d14b5eab0a",
       "version_major": 2,
       "version_minor": 0
      },
      "text/plain": [
       "Probes for 0.5:   0%|          | 0/5 [00:00<?, ?it/s]"
      ]
     },
     "metadata": {},
     "output_type": "display_data"
    },
    {
     "data": {
      "application/vnd.jupyter.widget-view+json": {
       "model_id": "d7967c1dd0d847f599c6b28ea1e0b2a5",
       "version_major": 2,
       "version_minor": 0
      },
      "text/plain": [
       "Probes for 0.8:   0%|          | 0/5 [00:00<?, ?it/s]"
      ]
     },
     "metadata": {},
     "output_type": "display_data"
    },
    {
     "data": {
      "application/vnd.jupyter.widget-view+json": {
       "model_id": "d74507af239140c28e9f7c7d449626ed",
       "version_major": 2,
       "version_minor": 0
      },
      "text/plain": [
       "Probes for 1.0:   0%|          | 0/5 [00:00<?, ?it/s]"
      ]
     },
     "metadata": {},
     "output_type": "display_data"
    },
    {
     "data": {
      "application/vnd.jupyter.widget-view+json": {
       "model_id": "3e4a369e75384b85b9479243287a987f",
       "version_major": 2,
       "version_minor": 0
      },
      "text/plain": [
       "Processing bson request ratios:   0%|          | 0/4 [00:00<?, ?it/s]"
      ]
     },
     "metadata": {},
     "output_type": "display_data"
    },
    {
     "data": {
      "application/vnd.jupyter.widget-view+json": {
       "model_id": "991287fe4a4d48df82bbfe121cee6fcc",
       "version_major": 2,
       "version_minor": 0
      },
      "text/plain": [
       "Probes for 0.1:   0%|          | 0/5 [00:00<?, ?it/s]"
      ]
     },
     "metadata": {},
     "output_type": "display_data"
    },
    {
     "data": {
      "application/vnd.jupyter.widget-view+json": {
       "model_id": "97b202fbf9f94117b083398f334139c5",
       "version_major": 2,
       "version_minor": 0
      },
      "text/plain": [
       "Probes for 0.5:   0%|          | 0/5 [00:00<?, ?it/s]"
      ]
     },
     "metadata": {},
     "output_type": "display_data"
    },
    {
     "data": {
      "application/vnd.jupyter.widget-view+json": {
       "model_id": "2aa8acaf8e4b422182529f5a6423e6f2",
       "version_major": 2,
       "version_minor": 0
      },
      "text/plain": [
       "Probes for 0.8:   0%|          | 0/5 [00:00<?, ?it/s]"
      ]
     },
     "metadata": {},
     "output_type": "display_data"
    },
    {
     "data": {
      "application/vnd.jupyter.widget-view+json": {
       "model_id": "4d39fe7e56604049b4a33934c5b41ca3",
       "version_major": 2,
       "version_minor": 0
      },
      "text/plain": [
       "Probes for 1.0:   0%|          | 0/5 [00:00<?, ?it/s]"
      ]
     },
     "metadata": {},
     "output_type": "display_data"
    },
    {
     "data": {
      "application/vnd.jupyter.widget-view+json": {
       "model_id": "1c6832b756884c6390c525bcc930cfed",
       "version_major": 2,
       "version_minor": 0
      },
      "text/plain": [
       "Processing columnar request ratios:   0%|          | 0/4 [00:00<?, ?it/s]"
      ]
     },
     "metadata": {},
     "output_type": "display_data"
    },
    {
     "data": {
      "application/vnd.jupyter.widget-view+json": {
       "model_id": "e7af0cf9b1214329a413b66a1f929635",
       "version_major": 2,
       "version_minor": 0
      },
      "text/plain": [
       "Probes for 0.1:   0%|          | 0/5 [00:00<?, ?it/s]"
      ]
     },
     "metadata": {},
     "output_type": "display_data"
    },
    {
     "data": {
      "application/vnd.jupyter.widget-view+json": {
       "model_id": "571207a19462419fb5b75a1653c8ffa9",
       "version_major": 2,
       "version_minor": 0
      },
      "text/plain": [
       "Probes for 0.5:   0%|          | 0/5 [00:00<?, ?it/s]"
      ]
     },
     "metadata": {},
     "output_type": "display_data"
    },
    {
     "data": {
      "application/vnd.jupyter.widget-view+json": {
       "model_id": "027d763d90c243d6bad3bc848078ee02",
       "version_major": 2,
       "version_minor": 0
      },
      "text/plain": [
       "Probes for 0.8:   0%|          | 0/5 [00:00<?, ?it/s]"
      ]
     },
     "metadata": {},
     "output_type": "display_data"
    },
    {
     "data": {
      "application/vnd.jupyter.widget-view+json": {
       "model_id": "3e7f7c76abfb43d1be7a31e2d457f787",
       "version_major": 2,
       "version_minor": 0
      },
      "text/plain": [
       "Probes for 1.0:   0%|          | 0/5 [00:00<?, ?it/s]"
      ]
     },
     "metadata": {},
     "output_type": "display_data"
    },
    {
     "data": {
      "application/vnd.jupyter.widget-view+json": {
       "model_id": "4f36ffcb38924da48a1e7bf35474319d",
       "version_major": 2,
       "version_minor": 0
      },
      "text/plain": [
       "Processing 1-0.1:   0%|          | 0/3 [00:00<?, ?it/s]"
      ]
     },
     "metadata": {},
     "output_type": "display_data"
    },
    {
     "data": {
      "application/vnd.jupyter.widget-view+json": {
       "model_id": "c3eb63ed868949a6a413dba12423e21e",
       "version_major": 2,
       "version_minor": 0
      },
      "text/plain": [
       "Processing json request ratios:   0%|          | 0/4 [00:00<?, ?it/s]"
      ]
     },
     "metadata": {},
     "output_type": "display_data"
    },
    {
     "data": {
      "application/vnd.jupyter.widget-view+json": {
       "model_id": "f5b72bcc24e747c5955754b18c7927a6",
       "version_major": 2,
       "version_minor": 0
      },
      "text/plain": [
       "Probes for 0.1:   0%|          | 0/5 [00:00<?, ?it/s]"
      ]
     },
     "metadata": {},
     "output_type": "display_data"
    },
    {
     "data": {
      "application/vnd.jupyter.widget-view+json": {
       "model_id": "f0e34999cf084d1580786c3603d17fb7",
       "version_major": 2,
       "version_minor": 0
      },
      "text/plain": [
       "Probes for 0.5:   0%|          | 0/5 [00:00<?, ?it/s]"
      ]
     },
     "metadata": {},
     "output_type": "display_data"
    },
    {
     "data": {
      "application/vnd.jupyter.widget-view+json": {
       "model_id": "7aea250965a244f3a426c1b3dc0a2ce5",
       "version_major": 2,
       "version_minor": 0
      },
      "text/plain": [
       "Probes for 0.8:   0%|          | 0/5 [00:00<?, ?it/s]"
      ]
     },
     "metadata": {},
     "output_type": "display_data"
    },
    {
     "data": {
      "application/vnd.jupyter.widget-view+json": {
       "model_id": "9a1ba627c447434c8197adaf8abd2fce",
       "version_major": 2,
       "version_minor": 0
      },
      "text/plain": [
       "Probes for 1.0:   0%|          | 0/5 [00:00<?, ?it/s]"
      ]
     },
     "metadata": {},
     "output_type": "display_data"
    },
    {
     "data": {
      "application/vnd.jupyter.widget-view+json": {
       "model_id": "7c4fc012623b47c596592048cd29617c",
       "version_major": 2,
       "version_minor": 0
      },
      "text/plain": [
       "Processing bson request ratios:   0%|          | 0/4 [00:00<?, ?it/s]"
      ]
     },
     "metadata": {},
     "output_type": "display_data"
    },
    {
     "data": {
      "application/vnd.jupyter.widget-view+json": {
       "model_id": "3f820bd7a6a6455a9a1349db443c64b9",
       "version_major": 2,
       "version_minor": 0
      },
      "text/plain": [
       "Probes for 0.1:   0%|          | 0/5 [00:00<?, ?it/s]"
      ]
     },
     "metadata": {},
     "output_type": "display_data"
    },
    {
     "data": {
      "application/vnd.jupyter.widget-view+json": {
       "model_id": "1e51c6bb8dc74207a9af654a20dd88d8",
       "version_major": 2,
       "version_minor": 0
      },
      "text/plain": [
       "Probes for 0.5:   0%|          | 0/5 [00:00<?, ?it/s]"
      ]
     },
     "metadata": {},
     "output_type": "display_data"
    },
    {
     "data": {
      "application/vnd.jupyter.widget-view+json": {
       "model_id": "8240a37953064de58f67b6da52bea555",
       "version_major": 2,
       "version_minor": 0
      },
      "text/plain": [
       "Probes for 0.8:   0%|          | 0/5 [00:00<?, ?it/s]"
      ]
     },
     "metadata": {},
     "output_type": "display_data"
    }
   ],
   "source": [
    "from tqdm.notebook import tqdm\n",
    "\n",
    "import json\n",
    "\n",
    "probes_cnt = 5\n",
    "\n",
    "results = {}\n",
    "\n",
    "for ds in tqdm(datasets, desc=\"Dataset\", leave=True):\n",
    "    ds_key = f\"{ds['depth']}-{ds['sparsity']:.1f}\"\n",
    "    results[ds_key] = {}\n",
    "\n",
    "    input_path = f\"{ds_path}/{ds['depth']}-{ds['sparsity']:.1f}.json\"\n",
    "    schema_path = f\"{schemas_path}/schema-{ds['depth']}.json\"\n",
    "    with open(schema_path) as f:\n",
    "        schema = json.loads(f.read())\n",
    "\n",
    "    partial_requests = [generate_partial_request(schema, r) for r in partial_request_ratios]\n",
    "\n",
    "    for format in tqdm([\"json\", \"bson\", \"columnar\"], desc=f\"Processing {ds_key}\", leave=True):\n",
    "        results[ds_key][format] = {}\n",
    "\n",
    "        # results[ds_key][format][\"write\"] = []\n",
    "        # for i in tqdm(range(probes_cnt), desc=\"Probe write\", leave=False):\n",
    "        #     output_path = f\"./temp/out-{ds['depth']}-{ds['sparsity']:.1f}.{format}\"\n",
    "        #     result = run_transform(binary_path, input_path, \"json\", output_path, format, schema_path=schema_path)\n",
    "        #     results[ds_key][format][\"write\"].append(result[\"write_duration_ns\"])\n",
    "\n",
    "        read_input_path = f\"./temp/out-{ds['depth']}-{ds['sparsity']:.1f}.{format}\"\n",
    "        for r in tqdm(partial_request_ratios, desc=f\"Processing {format} request ratios\", leave=True):\n",
    "            results[ds_key][format][f\"read_{r:.1f}\"] = []\n",
    "\n",
    "            for _ in tqdm(range(probes_cnt), desc=f\"Probes for {r:.1f}\"):\n",
    "                partial_request = generate_partial_request(schema, r)\n",
    "                result = run_read(binary_path, read_input_path, format, schema_path=schema_path, partial_request=partial_request)\n",
    "                results[ds_key][format][f\"read_{r:.1f}\"].append(result[\"read_duration_ns\"])\n"
   ]
  },
  {
   "cell_type": "code",
   "execution_count": null,
   "metadata": {},
   "outputs": [],
   "source": [
    "import json\n",
    "\n",
    "with open(\"./read_results_2.json\", \"w+\") as f:\n",
    "    f.write(json.dumps(results))"
   ]
  },
  {
   "cell_type": "code",
   "execution_count": null,
   "metadata": {},
   "outputs": [],
   "source": []
  }
 ],
 "metadata": {
  "kernelspec": {
   "display_name": "Python 3",
   "language": "python",
   "name": "python3"
  },
  "language_info": {
   "codemirror_mode": {
    "name": "ipython",
    "version": 3
   },
   "file_extension": ".py",
   "mimetype": "text/x-python",
   "name": "python",
   "nbconvert_exporter": "python",
   "pygments_lexer": "ipython3",
   "version": "3.9.6"
  }
 },
 "nbformat": 4,
 "nbformat_minor": 2
}
