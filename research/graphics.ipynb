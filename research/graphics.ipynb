{
 "cells": [
  {
   "cell_type": "code",
   "execution_count": 1,
   "metadata": {},
   "outputs": [],
   "source": [
    "from runner import run_read, run_transform, run_generate_dataset"
   ]
  },
  {
   "cell_type": "code",
   "execution_count": 2,
   "metadata": {},
   "outputs": [],
   "source": [
    "# all for chunk size ~250mb\n",
    "datasets = [\n",
    "    {\n",
    "        \"depth\": 0,\n",
    "        \"sparsity\": 0.,\n",
    "        \"docs_count\": 1250000,\n",
    "    },\n",
    "    {\n",
    "        \"depth\": 0,\n",
    "        \"sparsity\": 0.1,\n",
    "        \"docs_count\": 1350000,\n",
    "    },\n",
    "    {\n",
    "        \"depth\": 0,\n",
    "        \"sparsity\": 0.2,\n",
    "        \"docs_count\": 1450000,\n",
    "    },\n",
    "    {\n",
    "        \"depth\": 0,\n",
    "        \"sparsity\": 0.3,\n",
    "        \"docs_count\": 1550000,\n",
    "    },\n",
    "    {\n",
    "        \"depth\": 0,\n",
    "        \"sparsity\": 0.4,\n",
    "        \"docs_count\": 1650000,\n",
    "    },\n",
    "    {\n",
    "        \"depth\": 1,\n",
    "        \"sparsity\": 0.0,\n",
    "        \"docs_count\": 190000,\n",
    "    },\n",
    "    {\n",
    "        \"depth\": 1,\n",
    "        \"sparsity\": 0.1,\n",
    "        \"docs_count\": 210000,\n",
    "    },\n",
    "    {\n",
    "        \"depth\": 1,\n",
    "        \"sparsity\": 0.2,\n",
    "        \"docs_count\": 245000,\n",
    "    },\n",
    "    {\n",
    "        \"depth\": 1,\n",
    "        \"sparsity\": 0.3,\n",
    "        \"docs_count\": 300000,\n",
    "    },\n",
    "    {\n",
    "        \"depth\": 1,\n",
    "        \"sparsity\": 0.4,\n",
    "        \"docs_count\": 365000,\n",
    "    },\n",
    "    {\n",
    "        \"depth\": 2,\n",
    "        \"sparsity\": 0.0,\n",
    "        \"docs_count\": 35000,\n",
    "    },\n",
    "    {\n",
    "        \"depth\": 2,\n",
    "        \"sparsity\": 0.1,\n",
    "        \"docs_count\": 45000,\n",
    "    },\n",
    "    {\n",
    "        \"depth\": 2,\n",
    "        \"sparsity\": 0.2,\n",
    "        \"docs_count\": 60000,\n",
    "    },\n",
    "    {\n",
    "        \"depth\": 2,\n",
    "        \"sparsity\": 0.3,\n",
    "        \"docs_count\": 78000,\n",
    "    },\n",
    "    {\n",
    "        \"depth\": 2,\n",
    "        \"sparsity\": 0.4,\n",
    "        \"docs_count\": 110000,\n",
    "    },\n",
    "    {\n",
    "        \"depth\": 3,\n",
    "        \"sparsity\": 0.0,\n",
    "        \"docs_count\": 7500,\n",
    "    },\n",
    "    {\n",
    "        \"depth\": 3,\n",
    "        \"sparsity\": 0.1,\n",
    "        \"docs_count\": 11000,\n",
    "    },\n",
    "    {\n",
    "        \"depth\": 3,\n",
    "        \"sparsity\": 0.2,\n",
    "        \"docs_count\": 17000,\n",
    "    },\n",
    "    {\n",
    "        \"depth\": 3,\n",
    "        \"sparsity\": 0.3,\n",
    "        \"docs_count\": 25000,\n",
    "    },\n",
    "    {\n",
    "        \"depth\": 3,\n",
    "        \"sparsity\": 0.4,\n",
    "        \"docs_count\": 45000,\n",
    "    },\n",
    "    {\n",
    "        \"depth\": 4,\n",
    "        \"sparsity\": 0.0,\n",
    "        \"docs_count\": 800,\n",
    "    },\n",
    "    {\n",
    "        \"depth\": 4,\n",
    "        \"sparsity\": 0.1,\n",
    "        \"docs_count\": 1200,\n",
    "    },\n",
    "    {\n",
    "        \"depth\": 4,\n",
    "        \"sparsity\": 0.2,\n",
    "        \"docs_count\": 2000,\n",
    "    },\n",
    "    {\n",
    "        \"depth\": 4,\n",
    "        \"sparsity\": 0.3,\n",
    "        \"docs_count\": 3600,\n",
    "    },\n",
    "    {\n",
    "        \"depth\": 4,\n",
    "        \"sparsity\": 0.4,\n",
    "        \"docs_count\": 7000,\n",
    "    },\n",
    "    {\n",
    "        \"depth\": 5,\n",
    "        \"sparsity\": 0.0,\n",
    "        \"docs_count\": 170,\n",
    "    },\n",
    "    {\n",
    "        \"depth\": 5,\n",
    "        \"sparsity\": 0.1,\n",
    "        \"docs_count\": 270,\n",
    "    },\n",
    "    {\n",
    "        \"depth\": 5,\n",
    "        \"sparsity\": 0.2,\n",
    "        \"docs_count\": 540,\n",
    "    },\n",
    "    {\n",
    "        \"depth\": 5,\n",
    "        \"sparsity\": 0.3,\n",
    "        \"docs_count\": 1100,\n",
    "    },\n",
    "    {\n",
    "        \"depth\": 5,\n",
    "        \"sparsity\": 0.4,\n",
    "        \"docs_count\": 2500,\n",
    "    },\n",
    "    {\n",
    "        \"depth\": 6,\n",
    "        \"sparsity\": 0.0,\n",
    "        \"docs_count\": 45,\n",
    "    },\n",
    "    {\n",
    "        \"depth\": 6,\n",
    "        \"sparsity\": 0.1,\n",
    "        \"docs_count\": 85,\n",
    "    },\n",
    "    {\n",
    "        \"depth\": 6,\n",
    "        \"sparsity\": 0.2,\n",
    "        \"docs_count\": 170,\n",
    "    },\n",
    "    {\n",
    "        \"depth\": 6,\n",
    "        \"sparsity\": 0.3,\n",
    "        \"docs_count\": 410,\n",
    "    },\n",
    "    {\n",
    "        \"depth\": 6,\n",
    "        \"sparsity\": 0.4,\n",
    "        \"docs_count\": 1100,\n",
    "    },\n",
    "    {\n",
    "        \"depth\": 7,\n",
    "        \"sparsity\": 0.0,\n",
    "        \"docs_count\": 5,\n",
    "    },\n",
    "    {\n",
    "        \"depth\": 7,\n",
    "        \"sparsity\": 0.1,\n",
    "        \"docs_count\": 12,\n",
    "    },\n",
    "    {\n",
    "        \"depth\": 7,\n",
    "        \"sparsity\": 0.2,\n",
    "        \"docs_count\": 27,\n",
    "    },\n",
    "    {\n",
    "        \"depth\": 7,\n",
    "        \"sparsity\": 0.3,\n",
    "        \"docs_count\": 85,\n",
    "    },\n",
    "    {\n",
    "        \"depth\": 7,\n",
    "        \"sparsity\": 0.4,\n",
    "        \"docs_count\": 220,\n",
    "    },\n",
    "]\n",
    "\n",
    "partial_request_ratios = [0.1, 0.5, 0.8]"
   ]
  },
  {
   "cell_type": "code",
   "execution_count": 3,
   "metadata": {},
   "outputs": [],
   "source": [
    "binary_path = \"../build/bin/cli\"\n",
    "ds_path = \"./datasets/documents\"\n",
    "schemas_path = \"./datasets/schemas\"\n",
    "temp_path = \"./datasets/temp\""
   ]
  },
  {
   "cell_type": "code",
   "execution_count": 4,
   "metadata": {},
   "outputs": [],
   "source": [
    "def gen(ds):\n",
    "    run_generate_dataset(\n",
    "        \"../build/bin/cli\",\n",
    "        f\"./datasets/documents/{ds['depth']}-{ds['sparsity']:.1f}.json\",\n",
    "        f\"./datasets/schemas/schema-{ds['depth']}.json\",\n",
    "        docs_count=ds[\"docs_count\"],\n",
    "        sparsity=ds[\"sparsity\"]\n",
    "    )"
   ]
  },
  {
   "cell_type": "code",
   "execution_count": 328,
   "metadata": {},
   "outputs": [],
   "source": [
    "import os\n",
    "\n",
    "# os.mkdir(\"./datasets\")\n",
    "# os.mkdir(\"./datasets/documents\")\n",
    "# os.mkdir(\"./datasets/schemas\")\n",
    "# os.mkdir(\"./datasets/temp\")\n",
    "# for ds in datasets:\n",
    "#     gen(ds)"
   ]
  },
  {
   "cell_type": "code",
   "execution_count": 334,
   "metadata": {},
   "outputs": [
    {
     "data": {
      "application/vnd.jupyter.widget-view+json": {
       "model_id": "2cb3832f5be8413f9545ad4cf3d38b64",
       "version_major": 2,
       "version_minor": 0
      },
      "text/plain": [
       "Dataset:   0%|          | 0/40 [00:00<?, ?it/s]"
      ]
     },
     "metadata": {},
     "output_type": "display_data"
    },
    {
     "data": {
      "application/vnd.jupyter.widget-view+json": {
       "model_id": "7eecbf9fefb841a18b084aa7c6535ab7",
       "version_major": 2,
       "version_minor": 0
      },
      "text/plain": [
       "Probe write:   0%|          | 0/5 [00:00<?, ?it/s]"
      ]
     },
     "metadata": {},
     "output_type": "display_data"
    },
    {
     "data": {
      "application/vnd.jupyter.widget-view+json": {
       "model_id": "eab0de86bdd54870b6f4d544eb9bce14",
       "version_major": 2,
       "version_minor": 0
      },
      "text/plain": [
       "Probe write:   0%|          | 0/5 [00:00<?, ?it/s]"
      ]
     },
     "metadata": {},
     "output_type": "display_data"
    },
    {
     "data": {
      "application/vnd.jupyter.widget-view+json": {
       "model_id": "07fd64d59af5483e9ba5e71fa92902be",
       "version_major": 2,
       "version_minor": 0
      },
      "text/plain": [
       "Probe write:   0%|          | 0/5 [00:00<?, ?it/s]"
      ]
     },
     "metadata": {},
     "output_type": "display_data"
    },
    {
     "name": "stdout",
     "output_type": "stream",
     "text": [
      "Error: Command [../build/bin/cli transform --input-path ./datasets/documents/0-0.0.json --input-format json --output-path ./temp/out-0-0.0.columnar --output-format columnar] failed with return code -6\n",
      "libc++abi: terminating due to uncaught exception of type std::runtime_error: Need to pass schema path for this operation\n",
      "\n"
     ]
    },
    {
     "ename": "TypeError",
     "evalue": "the JSON object must be str, bytes or bytearray, not NoneType",
     "output_type": "error",
     "traceback": [
      "\u001b[0;31m---------------------------------------------------------------------------\u001b[0m",
      "\u001b[0;31mTypeError\u001b[0m                                 Traceback (most recent call last)",
      "Cell \u001b[0;32mIn [334], line 16\u001b[0m\n\u001b[1;32m     14\u001b[0m \u001b[38;5;28;01mfor\u001b[39;00m i \u001b[38;5;129;01min\u001b[39;00m tqdm(\u001b[38;5;28mrange\u001b[39m(\u001b[38;5;241m5\u001b[39m), desc\u001b[38;5;241m=\u001b[39m\u001b[38;5;124m\"\u001b[39m\u001b[38;5;124mProbe write\u001b[39m\u001b[38;5;124m\"\u001b[39m, leave\u001b[38;5;241m=\u001b[39m\u001b[38;5;28;01mFalse\u001b[39;00m):\n\u001b[1;32m     15\u001b[0m     output_path \u001b[38;5;241m=\u001b[39m \u001b[38;5;124mf\u001b[39m\u001b[38;5;124m\"\u001b[39m\u001b[38;5;124m./temp/out-\u001b[39m\u001b[38;5;132;01m{\u001b[39;00mds[\u001b[38;5;124m'\u001b[39m\u001b[38;5;124mdepth\u001b[39m\u001b[38;5;124m'\u001b[39m]\u001b[38;5;132;01m}\u001b[39;00m\u001b[38;5;124m-\u001b[39m\u001b[38;5;132;01m{\u001b[39;00mds[\u001b[38;5;124m'\u001b[39m\u001b[38;5;124msparsity\u001b[39m\u001b[38;5;124m'\u001b[39m]\u001b[38;5;132;01m:\u001b[39;00m\u001b[38;5;124m.1f\u001b[39m\u001b[38;5;132;01m}\u001b[39;00m\u001b[38;5;124m.\u001b[39m\u001b[38;5;132;01m{\u001b[39;00moutput_format\u001b[38;5;132;01m}\u001b[39;00m\u001b[38;5;124m\"\u001b[39m\n\u001b[0;32m---> 16\u001b[0m     result \u001b[38;5;241m=\u001b[39m \u001b[43mrun_transform\u001b[49m\u001b[43m(\u001b[49m\u001b[43mbinary_path\u001b[49m\u001b[43m,\u001b[49m\u001b[43m \u001b[49m\u001b[43minput_path\u001b[49m\u001b[43m,\u001b[49m\u001b[43m \u001b[49m\u001b[38;5;124;43m\"\u001b[39;49m\u001b[38;5;124;43mjson\u001b[39;49m\u001b[38;5;124;43m\"\u001b[39;49m\u001b[43m,\u001b[49m\u001b[43m \u001b[49m\u001b[43moutput_path\u001b[49m\u001b[43m,\u001b[49m\u001b[43m \u001b[49m\u001b[43moutput_format\u001b[49m\u001b[43m)\u001b[49m\n\u001b[1;32m     17\u001b[0m     results[ds_key][output_format][\u001b[38;5;124m\"\u001b[39m\u001b[38;5;124mwrite\u001b[39m\u001b[38;5;124m\"\u001b[39m]\u001b[38;5;241m.\u001b[39mappend(result[\u001b[38;5;124m\"\u001b[39m\u001b[38;5;124mwrite_duration_ns\u001b[39m\u001b[38;5;124m\"\u001b[39m])\n",
      "File \u001b[0;32m~/study/hse/4course/vkr/program/research/runner.py:40\u001b[0m, in \u001b[0;36mrun_transform\u001b[0;34m(binary, input_path, input_format, output_path, output_format)\u001b[0m\n\u001b[1;32m     27\u001b[0m command \u001b[38;5;241m=\u001b[39m [\n\u001b[1;32m     28\u001b[0m     binary,\n\u001b[1;32m     29\u001b[0m     \u001b[38;5;124m\"\u001b[39m\u001b[38;5;124mtransform\u001b[39m\u001b[38;5;124m\"\u001b[39m,\n\u001b[0;32m   (...)\u001b[0m\n\u001b[1;32m     37\u001b[0m     output_format,\n\u001b[1;32m     38\u001b[0m ]\n\u001b[1;32m     39\u001b[0m _, stderr \u001b[38;5;241m=\u001b[39m run_cli(command)\n\u001b[0;32m---> 40\u001b[0m \u001b[38;5;28;01mreturn\u001b[39;00m \u001b[43mjson\u001b[49m\u001b[38;5;241;43m.\u001b[39;49m\u001b[43mloads\u001b[49m\u001b[43m(\u001b[49m\u001b[43mstderr\u001b[49m\u001b[43m)\u001b[49m\n",
      "File \u001b[0;32m/Library/Developer/CommandLineTools/Library/Frameworks/Python3.framework/Versions/3.9/lib/python3.9/json/__init__.py:339\u001b[0m, in \u001b[0;36mloads\u001b[0;34m(s, cls, object_hook, parse_float, parse_int, parse_constant, object_pairs_hook, **kw)\u001b[0m\n\u001b[1;32m    337\u001b[0m \u001b[38;5;28;01melse\u001b[39;00m:\n\u001b[1;32m    338\u001b[0m     \u001b[38;5;28;01mif\u001b[39;00m \u001b[38;5;129;01mnot\u001b[39;00m \u001b[38;5;28misinstance\u001b[39m(s, (\u001b[38;5;28mbytes\u001b[39m, \u001b[38;5;28mbytearray\u001b[39m)):\n\u001b[0;32m--> 339\u001b[0m         \u001b[38;5;28;01mraise\u001b[39;00m \u001b[38;5;167;01mTypeError\u001b[39;00m(\u001b[38;5;124mf\u001b[39m\u001b[38;5;124m'\u001b[39m\u001b[38;5;124mthe JSON object must be str, bytes or bytearray, \u001b[39m\u001b[38;5;124m'\u001b[39m\n\u001b[1;32m    340\u001b[0m                         \u001b[38;5;124mf\u001b[39m\u001b[38;5;124m'\u001b[39m\u001b[38;5;124mnot \u001b[39m\u001b[38;5;132;01m{\u001b[39;00ms\u001b[38;5;241m.\u001b[39m\u001b[38;5;18m__class__\u001b[39m\u001b[38;5;241m.\u001b[39m\u001b[38;5;18m__name__\u001b[39m\u001b[38;5;132;01m}\u001b[39;00m\u001b[38;5;124m'\u001b[39m)\n\u001b[1;32m    341\u001b[0m     s \u001b[38;5;241m=\u001b[39m s\u001b[38;5;241m.\u001b[39mdecode(detect_encoding(s), \u001b[38;5;124m'\u001b[39m\u001b[38;5;124msurrogatepass\u001b[39m\u001b[38;5;124m'\u001b[39m)\n\u001b[1;32m    343\u001b[0m \u001b[38;5;28;01mif\u001b[39;00m (\u001b[38;5;28mcls\u001b[39m \u001b[38;5;129;01mis\u001b[39;00m \u001b[38;5;28;01mNone\u001b[39;00m \u001b[38;5;129;01mand\u001b[39;00m object_hook \u001b[38;5;129;01mis\u001b[39;00m \u001b[38;5;28;01mNone\u001b[39;00m \u001b[38;5;129;01mand\u001b[39;00m\n\u001b[1;32m    344\u001b[0m         parse_int \u001b[38;5;129;01mis\u001b[39;00m \u001b[38;5;28;01mNone\u001b[39;00m \u001b[38;5;129;01mand\u001b[39;00m parse_float \u001b[38;5;129;01mis\u001b[39;00m \u001b[38;5;28;01mNone\u001b[39;00m \u001b[38;5;129;01mand\u001b[39;00m\n\u001b[1;32m    345\u001b[0m         parse_constant \u001b[38;5;129;01mis\u001b[39;00m \u001b[38;5;28;01mNone\u001b[39;00m \u001b[38;5;129;01mand\u001b[39;00m object_pairs_hook \u001b[38;5;129;01mis\u001b[39;00m \u001b[38;5;28;01mNone\u001b[39;00m \u001b[38;5;129;01mand\u001b[39;00m \u001b[38;5;129;01mnot\u001b[39;00m kw):\n",
      "\u001b[0;31mTypeError\u001b[0m: the JSON object must be str, bytes or bytearray, not NoneType"
     ]
    }
   ],
   "source": [
    "from tqdm.notebook import tqdm\n",
    "\n",
    "results = {}\n",
    "\n",
    "for ds in tqdm(datasets, desc=\"Dataset\"):\n",
    "    ds_key = f\"{ds['depth']}-{ds['sparsity']:.1f}\"\n",
    "    results[ds_key] = {}\n",
    "    for output_format in [\"json\", \"bson\", \"columnar\"]:\n",
    "        results[ds_key][output_format] = {}\n",
    "        input_path = f\"{ds_path}/{ds['depth']}-{ds['sparsity']:.1f}.json\"\n",
    "        schema_path = f\"{schemas_path}/schema-{ds['depth']}.json\",\n",
    "\n",
    "        results[ds_key][output_format][\"write\"] = []\n",
    "        for i in tqdm(range(5), desc=\"Probe write\", leave=False):\n",
    "            output_path = f\"./temp/out-{ds['depth']}-{ds['sparsity']:.1f}.{output_format}\"\n",
    "            result = run_transform(binary_path, input_path, \"json\", output_path, output_format)\n",
    "            results[ds_key][output_format][\"write\"].append(result[\"write_duration_ns\"])\n"
   ]
  },
  {
   "cell_type": "code",
   "execution_count": 12,
   "metadata": {},
   "outputs": [],
   "source": [
    "import json\n",
    "\n",
    "# transform_results_fix = {}\n",
    "# for depth, depth_res in transform_results.items():\n",
    "#     transform_results_fix[str(depth)] = {}\n",
    "#     for sparsity, sparsity_res in depth_res.items():\n",
    "#         transform_results_fix[str(depth)][str(sparsity)[:3]] = sparsity_res\n",
    "\n",
    "\n",
    "# with open(\"./results/transform_results.json\", \"w+\") as f:\n",
    "#     f.write(json.dumps(transform_results))"
   ]
  },
  {
   "cell_type": "code",
   "execution_count": 22,
   "metadata": {},
   "outputs": [],
   "source": [
    "with open(\"./results/write_results_3.json\", \"w+\") as f:\n",
    "    f.write(json.dumps(write_results))"
   ]
  },
  {
   "cell_type": "code",
   "execution_count": null,
   "metadata": {},
   "outputs": [],
   "source": []
  }
 ],
 "metadata": {
  "kernelspec": {
   "display_name": "Python 3",
   "language": "python",
   "name": "python3"
  },
  "language_info": {
   "codemirror_mode": {
    "name": "ipython",
    "version": 3
   },
   "file_extension": ".py",
   "mimetype": "text/x-python",
   "name": "python",
   "nbconvert_exporter": "python",
   "pygments_lexer": "ipython3",
   "version": "3.9.6"
  }
 },
 "nbformat": 4,
 "nbformat_minor": 2
}
